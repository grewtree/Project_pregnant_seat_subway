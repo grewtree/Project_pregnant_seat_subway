{
 "cells": [
  {
   "cell_type": "code",
   "execution_count": 5,
   "metadata": {
    "colab": {},
    "colab_type": "code",
    "id": "ldLZt98LHk-S"
   },
   "outputs": [],
   "source": [
    "%matplotlib inline\n",
    "\n",
    "import pandas as pd\n",
    "import numpy as np\n",
    "import matplotlib.pyplot as plt\n",
    "import seaborn as sns\n",
    "from sklearn.datasets import make_moons, make_circles\n",
    "\n",
    "import math\n",
    "import statistics\n",
    "from collections import Counter"
   ]
  },
  {
   "cell_type": "code",
   "execution_count": 6,
   "metadata": {
    "colab": {},
    "colab_type": "code",
    "id": "fCKb_k0GHk-a"
   },
   "outputs": [],
   "source": [
    "table = pd.read_csv('../practice_data/data_pregnant.csv')"
   ]
  },
  {
   "cell_type": "markdown",
   "metadata": {
    "colab_type": "text",
    "id": "b7mtk-iTHk-f"
   },
   "source": [
    "### 전체 데이터 개수: 833개"
   ]
  },
  {
   "cell_type": "code",
   "execution_count": 7,
   "metadata": {
    "colab": {
     "base_uri": "https://localhost:8080/",
     "height": 34
    },
    "colab_type": "code",
    "executionInfo": {
     "elapsed": 1783,
     "status": "ok",
     "timestamp": 1566378323655,
     "user": {
      "displayName": "이미현",
      "photoUrl": "",
      "userId": "03722407175191005048"
     },
     "user_tz": -540
    },
    "id": "mdJ-zBpGHk-g",
    "outputId": "e9c3480d-fe12-4e1d-df17-0d4f0b038d27"
   },
   "outputs": [
    {
     "data": {
      "text/plain": [
       "833"
      ]
     },
     "execution_count": 7,
     "metadata": {},
     "output_type": "execute_result"
    }
   ],
   "source": [
    "len(table)"
   ]
  },
  {
   "cell_type": "code",
   "execution_count": 8,
   "metadata": {
    "colab": {
     "base_uri": "https://localhost:8080/",
     "height": 34
    },
    "colab_type": "code",
    "executionInfo": {
     "elapsed": 1296,
     "status": "ok",
     "timestamp": 1566378324574,
     "user": {
      "displayName": "이미현",
      "photoUrl": "",
      "userId": "03722407175191005048"
     },
     "user_tz": -540
    },
    "id": "3BTJiqxGHk-m",
    "outputId": "e43cca42-ff36-40a5-8f92-b1fed2a0138e"
   },
   "outputs": [
    {
     "data": {
      "text/plain": [
       "array([ 1,  2,  3,  5,  6,  7,  9, 10, 11])"
      ]
     },
     "execution_count": 8,
     "metadata": {},
     "output_type": "execute_result"
    }
   ],
   "source": [
    "table['line'].sort_values().unique()"
   ]
  },
  {
   "cell_type": "code",
   "execution_count": 9,
   "metadata": {
    "colab": {
     "base_uri": "https://localhost:8080/",
     "height": 87
    },
    "colab_type": "code",
    "executionInfo": {
     "elapsed": 1642,
     "status": "ok",
     "timestamp": 1566378340771,
     "user": {
      "displayName": "이미현",
      "photoUrl": "",
      "userId": "03722407175191005048"
     },
     "user_tz": -540
    },
    "id": "R-lkJE6oHk-q",
    "outputId": "a9cbbbfc-d303-4a0c-935e-e98cdf53f9cf"
   },
   "outputs": [
    {
     "data": {
      "text/plain": [
       "array(['2019. 7. 31.', '2019. 8. 1.', '2019. 8. 10.', '2019. 8. 11.',\n",
       "       '2019. 8. 12.', '2019. 8. 13.', '2019. 8. 14.', '2019. 8. 15.',\n",
       "       '2019. 8. 16.', '2019. 8. 2.', '2019. 8. 3.', '2019. 8. 5.',\n",
       "       '2019. 8. 7.', '2019. 8. 8.', '2019. 8. 9.'], dtype=object)"
      ]
     },
     "execution_count": 9,
     "metadata": {},
     "output_type": "execute_result"
    }
   ],
   "source": [
    "table['date'].sort_values().unique()"
   ]
  },
  {
   "cell_type": "markdown",
   "metadata": {
    "colab_type": "text",
    "id": "v4uh3we7Hk-t"
   },
   "source": [
    "### 임산부석에 사람이 앉아있는 경우의 수와 비율: 576, 69.15%\n",
    "### 임산부석이 비어있는 경우의 수와 비율: 257, 30.85%"
   ]
  },
  {
   "cell_type": "code",
   "execution_count": 10,
   "metadata": {
    "colab": {
     "base_uri": "https://localhost:8080/",
     "height": 70
    },
    "colab_type": "code",
    "executionInfo": {
     "elapsed": 1329,
     "status": "ok",
     "timestamp": 1566378344337,
     "user": {
      "displayName": "이미현",
      "photoUrl": "",
      "userId": "03722407175191005048"
     },
     "user_tz": -540
    },
    "id": "jXfLNzcHHk-t",
    "outputId": "53f4fedf-5af0-42df-95d4-57940226d05b"
   },
   "outputs": [
    {
     "data": {
      "text/plain": [
       "0    576\n",
       "1    257\n",
       "Name: is_empty, dtype: int64"
      ]
     },
     "execution_count": 10,
     "metadata": {},
     "output_type": "execute_result"
    }
   ],
   "source": [
    "table['is_empty'].value_counts()"
   ]
  },
  {
   "cell_type": "code",
   "execution_count": 11,
   "metadata": {
    "colab": {
     "base_uri": "https://localhost:8080/",
     "height": 34
    },
    "colab_type": "code",
    "executionInfo": {
     "elapsed": 1125,
     "status": "ok",
     "timestamp": 1566378346983,
     "user": {
      "displayName": "이미현",
      "photoUrl": "",
      "userId": "03722407175191005048"
     },
     "user_tz": -540
    },
    "id": "07mS07vRHk-w",
    "outputId": "e56494c3-8e63-4862-926b-3c03264864c8"
   },
   "outputs": [
    {
     "data": {
      "text/plain": [
       "69.14765906362545"
      ]
     },
     "execution_count": 11,
     "metadata": {},
     "output_type": "execute_result"
    }
   ],
   "source": [
    "len(table[table['is_empty']==0]) / len(table) * 100"
   ]
  },
  {
   "cell_type": "code",
   "execution_count": 12,
   "metadata": {
    "colab": {},
    "colab_type": "code",
    "id": "ShDvqJJ5Hk-z",
    "outputId": "32df8366-29f2-4d86-9999-bbbccea2cb7a"
   },
   "outputs": [
    {
     "data": {
      "text/plain": [
       "30.85234093637455"
      ]
     },
     "execution_count": 12,
     "metadata": {},
     "output_type": "execute_result"
    }
   ],
   "source": [
    "len(table[table['is_empty']==1]) / len(table) * 100"
   ]
  },
  {
   "cell_type": "code",
   "execution_count": 13,
   "metadata": {
    "colab": {},
    "colab_type": "code",
    "id": "FMYYAQ4qHk-2",
    "outputId": "7ecc0e5f-287a-4620-a95d-55dd76e82a08"
   },
   "outputs": [
    {
     "data": {
      "text/html": [
       "<div>\n",
       "<style scoped>\n",
       "    .dataframe tbody tr th:only-of-type {\n",
       "        vertical-align: middle;\n",
       "    }\n",
       "\n",
       "    .dataframe tbody tr th {\n",
       "        vertical-align: top;\n",
       "    }\n",
       "\n",
       "    .dataframe thead th {\n",
       "        text-align: right;\n",
       "    }\n",
       "</style>\n",
       "<table border=\"1\" class=\"dataframe\">\n",
       "  <thead>\n",
       "    <tr style=\"text-align: right;\">\n",
       "      <th></th>\n",
       "      <th>date</th>\n",
       "      <th>time</th>\n",
       "      <th>line</th>\n",
       "      <th>start</th>\n",
       "      <th>stop</th>\n",
       "      <th>crowdedness</th>\n",
       "      <th>E</th>\n",
       "      <th>N</th>\n",
       "      <th>F</th>\n",
       "      <th>old_age_seat</th>\n",
       "      <th>...</th>\n",
       "      <th>cellphone</th>\n",
       "      <th>thinking</th>\n",
       "      <th>sleep</th>\n",
       "      <th>earphone</th>\n",
       "      <th>talking</th>\n",
       "      <th>calling</th>\n",
       "      <th>reading</th>\n",
       "      <th>makeup</th>\n",
       "      <th>eating</th>\n",
       "      <th>writing</th>\n",
       "    </tr>\n",
       "  </thead>\n",
       "  <tbody>\n",
       "    <tr>\n",
       "      <th>0</th>\n",
       "      <td>2019. 7. 31.</td>\n",
       "      <td>19:10:00</td>\n",
       "      <td>5</td>\n",
       "      <td>공덕</td>\n",
       "      <td>여의도</td>\n",
       "      <td>N</td>\n",
       "      <td>0</td>\n",
       "      <td>1</td>\n",
       "      <td>0</td>\n",
       "      <td>0</td>\n",
       "      <td>...</td>\n",
       "      <td>1.0</td>\n",
       "      <td>0.0</td>\n",
       "      <td>0.0</td>\n",
       "      <td>1.0</td>\n",
       "      <td>0.0</td>\n",
       "      <td>0.0</td>\n",
       "      <td>0.0</td>\n",
       "      <td>0.0</td>\n",
       "      <td>0.0</td>\n",
       "      <td>0.0</td>\n",
       "    </tr>\n",
       "  </tbody>\n",
       "</table>\n",
       "<p>1 rows × 36 columns</p>\n",
       "</div>"
      ],
      "text/plain": [
       "           date      time  line start stop crowdedness  E  N  F  old_age_seat  \\\n",
       "0  2019. 7. 31.  19:10:00     5    공덕  여의도           N  0  1  0             0   \n",
       "\n",
       "   ...  cellphone  thinking  sleep  earphone talking  calling  reading  \\\n",
       "0  ...        1.0       0.0    0.0       1.0     0.0      0.0      0.0   \n",
       "\n",
       "   makeup  eating  writing  \n",
       "0     0.0     0.0      0.0  \n",
       "\n",
       "[1 rows x 36 columns]"
      ]
     },
     "execution_count": 13,
     "metadata": {},
     "output_type": "execute_result"
    }
   ],
   "source": [
    "table.head(1)"
   ]
  },
  {
   "cell_type": "code",
   "execution_count": 14,
   "metadata": {
    "colab": {},
    "colab_type": "code",
    "id": "UHiWw67EHk-5",
    "outputId": "bced0b2d-3c7e-4347-ce57-8260cf6d7181"
   },
   "outputs": [
    {
     "data": {
      "text/plain": [
       "Index(['date', 'time', 'line', 'start', 'stop', 'crowdedness', 'E', 'N', 'F',\n",
       "       'old_age_seat', 'is_empty', 'empty_count', 'female', 'male', 'age',\n",
       "       'child', 'teenage', 'youth', 'middle_age', 'old_age', 'badge',\n",
       "       'pregnant', 'heavy', 'behavior1', 'behavior2', 'behavior3', 'cellphone',\n",
       "       'thinking', 'sleep', 'earphone', 'talking', 'calling', 'reading',\n",
       "       'makeup', 'eating', 'writing'],\n",
       "      dtype='object')"
      ]
     },
     "execution_count": 14,
     "metadata": {},
     "output_type": "execute_result"
    }
   ],
   "source": [
    "table.columns"
   ]
  },
  {
   "cell_type": "markdown",
   "metadata": {
    "colab_type": "text",
    "id": "Q4cOONnEHk-8"
   },
   "source": [
    "#### 약 70%의 확률로 임산부석에 누군가가 앉아있다. 이 사람들이 전부 임산부일까?\n",
    "\n",
    "### 임산부석 착석자가 임산부인 경우의 수와 비율: 26, 4.51% "
   ]
  },
  {
   "cell_type": "code",
   "execution_count": 15,
   "metadata": {
    "colab": {},
    "colab_type": "code",
    "id": "5ZP2pGloHk-8",
    "outputId": "826a68e5-a1be-4a52-d174-f1efebdb9c17"
   },
   "outputs": [
    {
     "name": "stdout",
     "output_type": "stream",
     "text": [
      "26\n",
      "4.513888888888888\n"
     ]
    }
   ],
   "source": [
    "full = table[table['is_empty']==0]\n",
    "print(len(full[full['pregnant']==1]))\n",
    "print(len(full[full['pregnant']==1]) / len(full) * 100)"
   ]
  },
  {
   "cell_type": "markdown",
   "metadata": {
    "colab_type": "text",
    "id": "KYvnYIaqHk-_"
   },
   "source": [
    "#### 심각한 수치임... 그럼 대체 어떤 사람들이 앉는지 좀 보자."
   ]
  },
  {
   "cell_type": "code",
   "execution_count": 16,
   "metadata": {
    "colab": {},
    "colab_type": "code",
    "id": "dd9z9T1VHk_A",
    "outputId": "1b71466e-f642-4418-cfa4-418a6427a290"
   },
   "outputs": [
    {
     "name": "stdout",
     "output_type": "stream",
     "text": [
      "여성이 앉은 경우의 수: 448\n",
      "여성이 앉은 비율: 77.77777777777779\n",
      "남성이 앉은 경우의 수: 128\n",
      "남성이 앉은 비율: 22.22222222222222\n"
     ]
    }
   ],
   "source": [
    "# 성별\n",
    "print('여성이 앉은 경우의 수:', len(full[full['female']==1]))\n",
    "print('여성이 앉은 비율:', (len(full[full['female']==1])/len(full)*100))\n",
    "print('남성이 앉은 경우의 수:', len(full[full['male']==1]))\n",
    "print('남성이 앉은 비율:', (len(full[full['male']==1])/len(full)*100))"
   ]
  },
  {
   "cell_type": "code",
   "execution_count": 17,
   "metadata": {
    "colab": {},
    "colab_type": "code",
    "id": "BKIh4Hc0Hk_D",
    "outputId": "fd91fe16-46f6-4aaf-fe23-532a929d17f3"
   },
   "outputs": [
    {
     "data": {
      "text/plain": [
       "age\n",
       "노년     100\n",
       "어린이     11\n",
       "중년     231\n",
       "청년     228\n",
       "청소년      6\n",
       "Name: date, dtype: int64"
      ]
     },
     "execution_count": 17,
     "metadata": {},
     "output_type": "execute_result"
    }
   ],
   "source": [
    "# 연령대 (경우의 수)\n",
    "full.groupby('age')['date'].count()"
   ]
  },
  {
   "cell_type": "code",
   "execution_count": 18,
   "metadata": {
    "colab": {},
    "colab_type": "code",
    "id": "V02zMOcJHk_F",
    "outputId": "76612f0c-c793-4478-c124-649b8f1a5d7b"
   },
   "outputs": [
    {
     "data": {
      "text/plain": [
       "age\n",
       "노년     17.361111\n",
       "어린이     1.909722\n",
       "중년     40.104167\n",
       "청년     39.583333\n",
       "청소년     1.041667\n",
       "Name: date, dtype: float64"
      ]
     },
     "execution_count": 18,
     "metadata": {},
     "output_type": "execute_result"
    }
   ],
   "source": [
    "# 연령대 (비율)\n",
    "full.groupby('age')['date'].count().apply(lambda x: x / len(full) * 100)"
   ]
  },
  {
   "cell_type": "code",
   "execution_count": 19,
   "metadata": {
    "colab": {},
    "colab_type": "code",
    "id": "vuhPfsoBHk_J",
    "outputId": "a02a1cf8-b918-4a38-b5bd-f3ac35e9e6fa"
   },
   "outputs": [
    {
     "data": {
      "text/plain": [
       "0.0    383\n",
       "1.0    192\n",
       "Name: heavy, dtype: int64"
      ]
     },
     "execution_count": 19,
     "metadata": {},
     "output_type": "execute_result"
    }
   ],
   "source": [
    "# 무거운 짐을 갖고 있는 경우의 수\n",
    "full['heavy'].value_counts()"
   ]
  },
  {
   "cell_type": "code",
   "execution_count": 20,
   "metadata": {
    "colab": {},
    "colab_type": "code",
    "id": "ulat9WDRHk_N",
    "outputId": "42b6bda2-a103-4e05-b7a1-e38429015e75"
   },
   "outputs": [
    {
     "data": {
      "text/plain": [
       "0.0    66.493056\n",
       "1.0    33.333333\n",
       "Name: heavy, dtype: float64"
      ]
     },
     "execution_count": 20,
     "metadata": {},
     "output_type": "execute_result"
    }
   ],
   "source": [
    "# 무거운 짐을 갖고 있는 비율\n",
    "full['heavy'].value_counts().apply(lambda x: x / len(full) * 100)"
   ]
  },
  {
   "cell_type": "code",
   "execution_count": 21,
   "metadata": {
    "colab": {},
    "colab_type": "code",
    "id": "lo3WtZsTHk_P",
    "outputId": "3614236e-c184-4b0f-d62e-a8969f4d3927"
   },
   "outputs": [
    {
     "data": {
      "text/html": [
       "<div>\n",
       "<style scoped>\n",
       "    .dataframe tbody tr th:only-of-type {\n",
       "        vertical-align: middle;\n",
       "    }\n",
       "\n",
       "    .dataframe tbody tr th {\n",
       "        vertical-align: top;\n",
       "    }\n",
       "\n",
       "    .dataframe thead th {\n",
       "        text-align: right;\n",
       "    }\n",
       "</style>\n",
       "<table border=\"1\" class=\"dataframe\">\n",
       "  <thead>\n",
       "    <tr style=\"text-align: right;\">\n",
       "      <th></th>\n",
       "      <th>date</th>\n",
       "      <th>time</th>\n",
       "      <th>line</th>\n",
       "      <th>start</th>\n",
       "      <th>stop</th>\n",
       "      <th>crowdedness</th>\n",
       "      <th>E</th>\n",
       "      <th>N</th>\n",
       "      <th>F</th>\n",
       "      <th>old_age_seat</th>\n",
       "      <th>...</th>\n",
       "      <th>cellphone</th>\n",
       "      <th>thinking</th>\n",
       "      <th>sleep</th>\n",
       "      <th>earphone</th>\n",
       "      <th>talking</th>\n",
       "      <th>calling</th>\n",
       "      <th>reading</th>\n",
       "      <th>makeup</th>\n",
       "      <th>eating</th>\n",
       "      <th>writing</th>\n",
       "    </tr>\n",
       "  </thead>\n",
       "  <tbody>\n",
       "    <tr>\n",
       "      <th>0</th>\n",
       "      <td>2019. 7. 31.</td>\n",
       "      <td>19:10:00</td>\n",
       "      <td>5</td>\n",
       "      <td>공덕</td>\n",
       "      <td>여의도</td>\n",
       "      <td>N</td>\n",
       "      <td>0</td>\n",
       "      <td>1</td>\n",
       "      <td>0</td>\n",
       "      <td>0</td>\n",
       "      <td>...</td>\n",
       "      <td>1.0</td>\n",
       "      <td>0.0</td>\n",
       "      <td>0.0</td>\n",
       "      <td>1.0</td>\n",
       "      <td>0.0</td>\n",
       "      <td>0.0</td>\n",
       "      <td>0.0</td>\n",
       "      <td>0.0</td>\n",
       "      <td>0.0</td>\n",
       "      <td>0.0</td>\n",
       "    </tr>\n",
       "  </tbody>\n",
       "</table>\n",
       "<p>1 rows × 36 columns</p>\n",
       "</div>"
      ],
      "text/plain": [
       "           date      time  line start stop crowdedness  E  N  F  old_age_seat  \\\n",
       "0  2019. 7. 31.  19:10:00     5    공덕  여의도           N  0  1  0             0   \n",
       "\n",
       "   ...  cellphone  thinking  sleep  earphone talking  calling  reading  \\\n",
       "0  ...        1.0       0.0    0.0       1.0     0.0      0.0      0.0   \n",
       "\n",
       "   makeup  eating  writing  \n",
       "0     0.0     0.0      0.0  \n",
       "\n",
       "[1 rows x 36 columns]"
      ]
     },
     "execution_count": 21,
     "metadata": {},
     "output_type": "execute_result"
    }
   ],
   "source": [
    "full.head(1)"
   ]
  },
  {
   "cell_type": "code",
   "execution_count": 22,
   "metadata": {
    "colab": {},
    "colab_type": "code",
    "id": "AUmdsDSzHk_S",
    "outputId": "a67035f4-310d-4e9b-b2b3-d752917f69fc"
   },
   "outputs": [
    {
     "data": {
      "text/plain": [
       "behavior1\n",
       "대화      5.208333\n",
       "독서      1.041667\n",
       "먹기      0.520833\n",
       "멍      16.493056\n",
       "이어폰     5.208333\n",
       "잠      13.541667\n",
       "통화      1.388889\n",
       "필기      0.520833\n",
       "핸드폰    52.083333\n",
       "화장      0.520833\n",
       "Name: date, dtype: float64"
      ]
     },
     "execution_count": 22,
     "metadata": {},
     "output_type": "execute_result"
    }
   ],
   "source": [
    "# 행동\n",
    "full.groupby('behavior1')['date'].size().apply(lambda x: x / len(full) *100)"
   ]
  },
  {
   "cell_type": "code",
   "execution_count": 23,
   "metadata": {
    "colab": {},
    "colab_type": "code",
    "id": "DM9w0mvoHk_U",
    "outputId": "00c14fad-560a-47bb-b307-759d8acabaa2"
   },
   "outputs": [
    {
     "data": {
      "text/plain": [
       "behavior2\n",
       "대화      2\n",
       "독서      1\n",
       "먹기      1\n",
       "멍       4\n",
       "이어폰    30\n",
       "잠      10\n",
       "핸드폰    16\n",
       "Name: date, dtype: int64"
      ]
     },
     "execution_count": 23,
     "metadata": {},
     "output_type": "execute_result"
    }
   ],
   "source": [
    "full.groupby('behavior2')['date'].size()"
   ]
  },
  {
   "cell_type": "code",
   "execution_count": 24,
   "metadata": {
    "colab": {},
    "colab_type": "code",
    "id": "5tQUpD3oHk_Z",
    "outputId": "47528b3b-1761-4d66-8ac3-ccff5285bc9d"
   },
   "outputs": [
    {
     "data": {
      "text/plain": [
       "behavior3\n",
       "잠    1\n",
       "Name: date, dtype: int64"
      ]
     },
     "execution_count": 24,
     "metadata": {},
     "output_type": "execute_result"
    }
   ],
   "source": [
    "full.groupby('behavior3')['date'].size()"
   ]
  },
  {
   "cell_type": "code",
   "execution_count": 25,
   "metadata": {
    "colab": {},
    "colab_type": "code",
    "id": "nfYgO5bzHk_f",
    "outputId": "36d63415-b835-489f-d19f-fa07d1b66dd4"
   },
   "outputs": [
    {
     "data": {
      "text/plain": [
       "crowdedness\n",
       "E     73\n",
       "F    266\n",
       "N    237\n",
       "Name: date, dtype: int64"
      ]
     },
     "execution_count": 25,
     "metadata": {},
     "output_type": "execute_result"
    }
   ],
   "source": [
    "full.groupby('crowdedness')['date'].size()"
   ]
  },
  {
   "cell_type": "code",
   "execution_count": 26,
   "metadata": {
    "colab": {},
    "colab_type": "code",
    "id": "xiv3dFvEHk_m",
    "outputId": "c12483e8-2594-441f-d886-f880895a63f8"
   },
   "outputs": [
    {
     "data": {
      "text/plain": [
       "crowdedness  is_empty\n",
       "E            0            73\n",
       "             1           118\n",
       "F            0           266\n",
       "             1            45\n",
       "N            0           237\n",
       "             1            94\n",
       "Name: date, dtype: int64"
      ]
     },
     "execution_count": 26,
     "metadata": {},
     "output_type": "execute_result"
    }
   ],
   "source": [
    "table.groupby(['crowdedness','is_empty'])['date'].size()"
   ]
  },
  {
   "cell_type": "code",
   "execution_count": 27,
   "metadata": {
    "colab": {},
    "colab_type": "code",
    "id": "0FSu5GWiHk_p",
    "outputId": "822ad9c9-eb43-4b19-ab22-f0d44f8e45ee"
   },
   "outputs": [
    {
     "data": {
      "text/plain": [
       "is_empty\n",
       "0    38.219895\n",
       "1    61.780105\n",
       "Name: date, dtype: float64"
      ]
     },
     "execution_count": 27,
     "metadata": {},
     "output_type": "execute_result"
    }
   ],
   "source": [
    "table[table['E']==1].groupby('is_empty')['date'].size().apply(lambda x: x/len(table[table['E']==1])*100)"
   ]
  },
  {
   "cell_type": "code",
   "execution_count": 28,
   "metadata": {
    "colab": {},
    "colab_type": "code",
    "id": "sL7CRj_1Hk_r",
    "outputId": "83b2b74f-7160-4170-f875-81661748783a"
   },
   "outputs": [
    {
     "data": {
      "text/plain": [
       "is_empty\n",
       "0    71.601208\n",
       "1    28.398792\n",
       "Name: date, dtype: float64"
      ]
     },
     "execution_count": 28,
     "metadata": {},
     "output_type": "execute_result"
    }
   ],
   "source": [
    "table[table['N']==1].groupby('is_empty')['date'].size().apply(lambda x: x/len(table[table['N']==1])*100)"
   ]
  },
  {
   "cell_type": "code",
   "execution_count": 29,
   "metadata": {
    "colab": {},
    "colab_type": "code",
    "id": "jTKv99kzHk_t",
    "outputId": "98635395-903f-4dfe-ec40-e4b20942128e"
   },
   "outputs": [
    {
     "data": {
      "text/plain": [
       "is_empty\n",
       "0    85.530547\n",
       "1    14.469453\n",
       "Name: date, dtype: float64"
      ]
     },
     "execution_count": 29,
     "metadata": {},
     "output_type": "execute_result"
    }
   ],
   "source": [
    "table[table['F']==1].groupby('is_empty')['date'].size().apply(lambda x: x/len(table[table['F']==1])*100)"
   ]
  },
  {
   "cell_type": "markdown",
   "metadata": {
    "colab_type": "text",
    "id": "V9RqQbgJTj5a"
   },
   "source": [
    "노약자석 빈자리 여부와 임산부석 빈자리 여부 관계 정리\n",
    "- 노약자석에 자리가 없을 경우, 21%로 임산부석에 누군가 앉아 있음\n",
    "- 노약자석에 자리가 있을 경우, 38.7%로 임산부석에 누군가 앉아 있음"
   ]
  },
  {
   "cell_type": "code",
   "execution_count": 30,
   "metadata": {
    "colab": {
     "base_uri": "https://localhost:8080/",
     "height": 84
    },
    "colab_type": "code",
    "executionInfo": {
     "elapsed": 440,
     "status": "ok",
     "timestamp": 1566376702730,
     "user": {
      "displayName": "Hansol Yun",
      "photoUrl": "",
      "userId": "05086029378448658540"
     },
     "user_tz": -540
    },
    "id": "joQrkyV_Hk_v",
    "outputId": "f2619ef4-a0d5-43de-89fa-55a134693a71"
   },
   "outputs": [
    {
     "data": {
      "text/plain": [
       "is_empty\n",
       "0    30.492197\n",
       "1    21.008403\n",
       "Name: date, dtype: float64"
      ]
     },
     "execution_count": 30,
     "metadata": {},
     "output_type": "execute_result"
    }
   ],
   "source": [
    "table[table['old_age_seat']==0].groupby('is_empty')['date'].size().apply(lambda x: x/len(table)*100)  "
   ]
  },
  {
   "cell_type": "code",
   "execution_count": 31,
   "metadata": {
    "colab": {
     "base_uri": "https://localhost:8080/",
     "height": 84
    },
    "colab_type": "code",
    "executionInfo": {
     "elapsed": 513,
     "status": "ok",
     "timestamp": 1566376733124,
     "user": {
      "displayName": "Hansol Yun",
      "photoUrl": "",
      "userId": "05086029378448658540"
     },
     "user_tz": -540
    },
    "id": "1UzIrpBsTfXv",
    "outputId": "027c6149-7655-474f-9920-c8921a44e0e0"
   },
   "outputs": [
    {
     "data": {
      "text/plain": [
       "is_empty\n",
       "0    38.655462\n",
       "1     9.843938\n",
       "Name: date, dtype: float64"
      ]
     },
     "execution_count": 31,
     "metadata": {},
     "output_type": "execute_result"
    }
   ],
   "source": [
    "table[table['old_age_seat']==1].groupby('is_empty')['date'].size().apply(lambda x: x/len(table)*100)  "
   ]
  },
  {
   "cell_type": "code",
   "execution_count": 32,
   "metadata": {
    "colab": {
     "base_uri": "https://localhost:8080/",
     "height": 84
    },
    "colab_type": "code",
    "executionInfo": {
     "elapsed": 795,
     "status": "ok",
     "timestamp": 1566378082740,
     "user": {
      "displayName": "Hansol Yun",
      "photoUrl": "",
      "userId": "05086029378448658540"
     },
     "user_tz": -540
    },
    "id": "Zzty8QrQTvuJ",
    "outputId": "e69aa138-71dd-48b8-f2c2-bef0796ae294"
   },
   "outputs": [
    {
     "data": {
      "text/plain": [
       "old_age\n",
       "0.0    206\n",
       "1.0     48\n",
       "Name: date, dtype: int64"
      ]
     },
     "execution_count": 32,
     "metadata": {},
     "output_type": "execute_result"
    }
   ],
   "source": [
    "table[table['old_age_seat']==0].groupby('old_age')['date'].size() #여기에 퍼센테이지를 어떻게 구할까요.."
   ]
  },
  {
   "cell_type": "code",
   "execution_count": null,
   "metadata": {
    "colab": {},
    "colab_type": "code",
    "id": "FXk7fMdqWUpq"
   },
   "outputs": [],
   "source": []
  },
  {
   "cell_type": "markdown",
   "metadata": {},
   "source": [
    "## C. 호선별 열차칸 상황과 임산부석 관계\t\n",
    "\n",
    "1) 붐빔정도와 임산부석 착석 여부\n",
    "\n",
    "2) 노약자석 빈자리 여부와 노년 이용자 착석 여부"
   ]
  },
  {
   "cell_type": "code",
   "execution_count": 33,
   "metadata": {},
   "outputs": [
    {
     "data": {
      "text/html": [
       "<div>\n",
       "<style scoped>\n",
       "    .dataframe tbody tr th:only-of-type {\n",
       "        vertical-align: middle;\n",
       "    }\n",
       "\n",
       "    .dataframe tbody tr th {\n",
       "        vertical-align: top;\n",
       "    }\n",
       "\n",
       "    .dataframe thead th {\n",
       "        text-align: right;\n",
       "    }\n",
       "</style>\n",
       "<table border=\"1\" class=\"dataframe\">\n",
       "  <thead>\n",
       "    <tr style=\"text-align: right;\">\n",
       "      <th></th>\n",
       "      <th>date</th>\n",
       "      <th>time</th>\n",
       "      <th>line</th>\n",
       "      <th>start</th>\n",
       "      <th>stop</th>\n",
       "      <th>crowdedness</th>\n",
       "      <th>E</th>\n",
       "      <th>N</th>\n",
       "      <th>F</th>\n",
       "      <th>old_age_seat</th>\n",
       "      <th>...</th>\n",
       "      <th>cellphone</th>\n",
       "      <th>thinking</th>\n",
       "      <th>sleep</th>\n",
       "      <th>earphone</th>\n",
       "      <th>talking</th>\n",
       "      <th>calling</th>\n",
       "      <th>reading</th>\n",
       "      <th>makeup</th>\n",
       "      <th>eating</th>\n",
       "      <th>writing</th>\n",
       "    </tr>\n",
       "  </thead>\n",
       "  <tbody>\n",
       "    <tr>\n",
       "      <th>828</th>\n",
       "      <td>2019. 8. 16.</td>\n",
       "      <td>18:16:00</td>\n",
       "      <td>1</td>\n",
       "      <td>신길</td>\n",
       "      <td>온수</td>\n",
       "      <td>F</td>\n",
       "      <td>0</td>\n",
       "      <td>0</td>\n",
       "      <td>1</td>\n",
       "      <td>1</td>\n",
       "      <td>...</td>\n",
       "      <td>0.0</td>\n",
       "      <td>0.0</td>\n",
       "      <td>1.0</td>\n",
       "      <td>0.0</td>\n",
       "      <td>0.0</td>\n",
       "      <td>0.0</td>\n",
       "      <td>0.0</td>\n",
       "      <td>0.0</td>\n",
       "      <td>0.0</td>\n",
       "      <td>0.0</td>\n",
       "    </tr>\n",
       "    <tr>\n",
       "      <th>829</th>\n",
       "      <td>2019. 8. 16.</td>\n",
       "      <td>18:16:00</td>\n",
       "      <td>1</td>\n",
       "      <td>신길</td>\n",
       "      <td>온수</td>\n",
       "      <td>F</td>\n",
       "      <td>0</td>\n",
       "      <td>0</td>\n",
       "      <td>1</td>\n",
       "      <td>1</td>\n",
       "      <td>...</td>\n",
       "      <td>1.0</td>\n",
       "      <td>0.0</td>\n",
       "      <td>0.0</td>\n",
       "      <td>0.0</td>\n",
       "      <td>0.0</td>\n",
       "      <td>0.0</td>\n",
       "      <td>0.0</td>\n",
       "      <td>0.0</td>\n",
       "      <td>0.0</td>\n",
       "      <td>0.0</td>\n",
       "    </tr>\n",
       "    <tr>\n",
       "      <th>830</th>\n",
       "      <td>2019. 8. 16.</td>\n",
       "      <td>18:29:00</td>\n",
       "      <td>1</td>\n",
       "      <td>신길</td>\n",
       "      <td>온수</td>\n",
       "      <td>F</td>\n",
       "      <td>0</td>\n",
       "      <td>0</td>\n",
       "      <td>1</td>\n",
       "      <td>1</td>\n",
       "      <td>...</td>\n",
       "      <td>1.0</td>\n",
       "      <td>0.0</td>\n",
       "      <td>0.0</td>\n",
       "      <td>0.0</td>\n",
       "      <td>0.0</td>\n",
       "      <td>0.0</td>\n",
       "      <td>0.0</td>\n",
       "      <td>0.0</td>\n",
       "      <td>0.0</td>\n",
       "      <td>0.0</td>\n",
       "    </tr>\n",
       "    <tr>\n",
       "      <th>831</th>\n",
       "      <td>2019. 8. 16.</td>\n",
       "      <td>18:40:00</td>\n",
       "      <td>7</td>\n",
       "      <td>온수</td>\n",
       "      <td>신중동</td>\n",
       "      <td>F</td>\n",
       "      <td>0</td>\n",
       "      <td>0</td>\n",
       "      <td>1</td>\n",
       "      <td>1</td>\n",
       "      <td>...</td>\n",
       "      <td>1.0</td>\n",
       "      <td>0.0</td>\n",
       "      <td>0.0</td>\n",
       "      <td>0.0</td>\n",
       "      <td>0.0</td>\n",
       "      <td>0.0</td>\n",
       "      <td>0.0</td>\n",
       "      <td>0.0</td>\n",
       "      <td>0.0</td>\n",
       "      <td>0.0</td>\n",
       "    </tr>\n",
       "    <tr>\n",
       "      <th>832</th>\n",
       "      <td>2019. 8. 16.</td>\n",
       "      <td>18:40:00</td>\n",
       "      <td>7</td>\n",
       "      <td>온수</td>\n",
       "      <td>신중동</td>\n",
       "      <td>F</td>\n",
       "      <td>0</td>\n",
       "      <td>0</td>\n",
       "      <td>1</td>\n",
       "      <td>1</td>\n",
       "      <td>...</td>\n",
       "      <td>0.0</td>\n",
       "      <td>0.0</td>\n",
       "      <td>1.0</td>\n",
       "      <td>0.0</td>\n",
       "      <td>0.0</td>\n",
       "      <td>0.0</td>\n",
       "      <td>0.0</td>\n",
       "      <td>0.0</td>\n",
       "      <td>0.0</td>\n",
       "      <td>0.0</td>\n",
       "    </tr>\n",
       "  </tbody>\n",
       "</table>\n",
       "<p>5 rows × 36 columns</p>\n",
       "</div>"
      ],
      "text/plain": [
       "             date      time  line start stop crowdedness  E  N  F  \\\n",
       "828  2019. 8. 16.  18:16:00     1    신길   온수           F  0  0  1   \n",
       "829  2019. 8. 16.  18:16:00     1    신길   온수           F  0  0  1   \n",
       "830  2019. 8. 16.  18:29:00     1    신길   온수           F  0  0  1   \n",
       "831  2019. 8. 16.  18:40:00     7    온수  신중동           F  0  0  1   \n",
       "832  2019. 8. 16.  18:40:00     7    온수  신중동           F  0  0  1   \n",
       "\n",
       "     old_age_seat  ...  cellphone  thinking  sleep  earphone talking  calling  \\\n",
       "828             1  ...        0.0       0.0    1.0       0.0     0.0      0.0   \n",
       "829             1  ...        1.0       0.0    0.0       0.0     0.0      0.0   \n",
       "830             1  ...        1.0       0.0    0.0       0.0     0.0      0.0   \n",
       "831             1  ...        1.0       0.0    0.0       0.0     0.0      0.0   \n",
       "832             1  ...        0.0       0.0    1.0       0.0     0.0      0.0   \n",
       "\n",
       "     reading  makeup  eating  writing  \n",
       "828      0.0     0.0     0.0      0.0  \n",
       "829      0.0     0.0     0.0      0.0  \n",
       "830      0.0     0.0     0.0      0.0  \n",
       "831      0.0     0.0     0.0      0.0  \n",
       "832      0.0     0.0     0.0      0.0  \n",
       "\n",
       "[5 rows x 36 columns]"
      ]
     },
     "execution_count": 33,
     "metadata": {},
     "output_type": "execute_result"
    }
   ],
   "source": [
    "table.tail()"
   ]
  },
  {
   "cell_type": "code",
   "execution_count": 34,
   "metadata": {},
   "outputs": [
    {
     "data": {
      "text/plain": [
       "date             object\n",
       "time             object\n",
       "line              int64\n",
       "start            object\n",
       "stop             object\n",
       "crowdedness      object\n",
       "E                 int64\n",
       "N                 int64\n",
       "F                 int64\n",
       "old_age_seat      int64\n",
       "is_empty          int64\n",
       "empty_count     float64\n",
       "female          float64\n",
       "male            float64\n",
       "age              object\n",
       "child           float64\n",
       "teenage         float64\n",
       "youth           float64\n",
       "middle_age      float64\n",
       "old_age         float64\n",
       "badge           float64\n",
       "pregnant        float64\n",
       "heavy           float64\n",
       "behavior1        object\n",
       "behavior2        object\n",
       "behavior3        object\n",
       "cellphone       float64\n",
       "thinking        float64\n",
       "sleep           float64\n",
       "earphone        float64\n",
       "talking         float64\n",
       "calling         float64\n",
       "reading         float64\n",
       "makeup          float64\n",
       "eating          float64\n",
       "writing         float64\n",
       "dtype: object"
      ]
     },
     "execution_count": 34,
     "metadata": {},
     "output_type": "execute_result"
    }
   ],
   "source": [
    "table.dtypes"
   ]
  },
  {
   "cell_type": "code",
   "execution_count": 35,
   "metadata": {},
   "outputs": [
    {
     "data": {
      "text/plain": [
       "array([ 1,  2,  3,  5,  6,  7,  9, 10, 11])"
      ]
     },
     "execution_count": 35,
     "metadata": {},
     "output_type": "execute_result"
    }
   ],
   "source": [
    "table['line'].sort_values().unique()"
   ]
  },
  {
   "cell_type": "code",
   "execution_count": 36,
   "metadata": {},
   "outputs": [
    {
     "data": {
      "text/plain": [
       "dtype('int64')"
      ]
     },
     "execution_count": 36,
     "metadata": {},
     "output_type": "execute_result"
    }
   ],
   "source": [
    "table['line'].dtypes"
   ]
  },
  {
   "cell_type": "code",
   "execution_count": null,
   "metadata": {},
   "outputs": [],
   "source": []
  },
  {
   "cell_type": "markdown",
   "metadata": {},
   "source": [
    "### 임산부가 아닌 사람이 탄 테이블을 만든다"
   ]
  },
  {
   "cell_type": "code",
   "execution_count": 37,
   "metadata": {},
   "outputs": [],
   "source": [
    "not_empty = table[table['is_empty']== 0]"
   ]
  },
  {
   "cell_type": "code",
   "execution_count": 38,
   "metadata": {},
   "outputs": [],
   "source": [
    "not_pregnant = not_empty[not_empty['pregnant'] == 0]"
   ]
  },
  {
   "cell_type": "code",
   "execution_count": 39,
   "metadata": {},
   "outputs": [
    {
     "data": {
      "text/plain": [
       "array([0.])"
      ]
     },
     "execution_count": 39,
     "metadata": {},
     "output_type": "execute_result"
    }
   ],
   "source": [
    "not_pregnant['pregnant'].unique()"
   ]
  },
  {
   "cell_type": "markdown",
   "metadata": {},
   "source": [
    "### C-1) 호선별 붐빔정도와 임산부석의 비임산부 착석여부"
   ]
  },
  {
   "cell_type": "markdown",
   "metadata": {},
   "source": [
    "#### 1. 전체 숫자 확인"
   ]
  },
  {
   "cell_type": "code",
   "execution_count": 92,
   "metadata": {},
   "outputs": [
    {
     "data": {
      "text/html": [
       "<div>\n",
       "<style scoped>\n",
       "    .dataframe tbody tr th:only-of-type {\n",
       "        vertical-align: middle;\n",
       "    }\n",
       "\n",
       "    .dataframe tbody tr th {\n",
       "        vertical-align: top;\n",
       "    }\n",
       "\n",
       "    .dataframe thead th {\n",
       "        text-align: right;\n",
       "    }\n",
       "</style>\n",
       "<table border=\"1\" class=\"dataframe\">\n",
       "  <thead>\n",
       "    <tr style=\"text-align: right;\">\n",
       "      <th></th>\n",
       "      <th></th>\n",
       "      <th>count_people</th>\n",
       "    </tr>\n",
       "    <tr>\n",
       "      <th>line</th>\n",
       "      <th>crowdedness</th>\n",
       "      <th></th>\n",
       "    </tr>\n",
       "  </thead>\n",
       "  <tbody>\n",
       "    <tr>\n",
       "      <th rowspan=\"3\" valign=\"top\">1</th>\n",
       "      <th>E</th>\n",
       "      <td>23</td>\n",
       "    </tr>\n",
       "    <tr>\n",
       "      <th>F</th>\n",
       "      <td>99</td>\n",
       "    </tr>\n",
       "    <tr>\n",
       "      <th>N</th>\n",
       "      <td>86</td>\n",
       "    </tr>\n",
       "    <tr>\n",
       "      <th rowspan=\"2\" valign=\"top\">2</th>\n",
       "      <th>E</th>\n",
       "      <td>1</td>\n",
       "    </tr>\n",
       "    <tr>\n",
       "      <th>N</th>\n",
       "      <td>4</td>\n",
       "    </tr>\n",
       "    <tr>\n",
       "      <th>3</th>\n",
       "      <th>F</th>\n",
       "      <td>1</td>\n",
       "    </tr>\n",
       "    <tr>\n",
       "      <th rowspan=\"3\" valign=\"top\">5</th>\n",
       "      <th>E</th>\n",
       "      <td>14</td>\n",
       "    </tr>\n",
       "    <tr>\n",
       "      <th>F</th>\n",
       "      <td>63</td>\n",
       "    </tr>\n",
       "    <tr>\n",
       "      <th>N</th>\n",
       "      <td>59</td>\n",
       "    </tr>\n",
       "    <tr>\n",
       "      <th rowspan=\"3\" valign=\"top\">6</th>\n",
       "      <th>E</th>\n",
       "      <td>9</td>\n",
       "    </tr>\n",
       "    <tr>\n",
       "      <th>F</th>\n",
       "      <td>15</td>\n",
       "    </tr>\n",
       "    <tr>\n",
       "      <th>N</th>\n",
       "      <td>53</td>\n",
       "    </tr>\n",
       "    <tr>\n",
       "      <th rowspan=\"3\" valign=\"top\">7</th>\n",
       "      <th>E</th>\n",
       "      <td>12</td>\n",
       "    </tr>\n",
       "    <tr>\n",
       "      <th>F</th>\n",
       "      <td>24</td>\n",
       "    </tr>\n",
       "    <tr>\n",
       "      <th>N</th>\n",
       "      <td>15</td>\n",
       "    </tr>\n",
       "    <tr>\n",
       "      <th rowspan=\"3\" valign=\"top\">9</th>\n",
       "      <th>E</th>\n",
       "      <td>1</td>\n",
       "    </tr>\n",
       "    <tr>\n",
       "      <th>F</th>\n",
       "      <td>5</td>\n",
       "    </tr>\n",
       "    <tr>\n",
       "      <th>N</th>\n",
       "      <td>2</td>\n",
       "    </tr>\n",
       "    <tr>\n",
       "      <th rowspan=\"3\" valign=\"top\">10</th>\n",
       "      <th>E</th>\n",
       "      <td>6</td>\n",
       "    </tr>\n",
       "    <tr>\n",
       "      <th>F</th>\n",
       "      <td>44</td>\n",
       "    </tr>\n",
       "    <tr>\n",
       "      <th>N</th>\n",
       "      <td>11</td>\n",
       "    </tr>\n",
       "    <tr>\n",
       "      <th>11</th>\n",
       "      <th>F</th>\n",
       "      <td>3</td>\n",
       "    </tr>\n",
       "  </tbody>\n",
       "</table>\n",
       "</div>"
      ],
      "text/plain": [
       "                  count_people\n",
       "line crowdedness              \n",
       "1    E                      23\n",
       "     F                      99\n",
       "     N                      86\n",
       "2    E                       1\n",
       "     N                       4\n",
       "3    F                       1\n",
       "5    E                      14\n",
       "     F                      63\n",
       "     N                      59\n",
       "6    E                       9\n",
       "     F                      15\n",
       "     N                      53\n",
       "7    E                      12\n",
       "     F                      24\n",
       "     N                      15\n",
       "9    E                       1\n",
       "     F                       5\n",
       "     N                       2\n",
       "10   E                       6\n",
       "     F                      44\n",
       "     N                      11\n",
       "11   F                       3"
      ]
     },
     "execution_count": 92,
     "metadata": {},
     "output_type": "execute_result"
    }
   ],
   "source": [
    "pd.DataFrame(not_pregnant.groupby(['line','crowdedness'])['date'].size()).rename(columns={'date':'count_people'})"
   ]
  },
  {
   "cell_type": "markdown",
   "metadata": {},
   "source": [
    "#### 각 호선별 붐빔정도에 따라 퍼센트를 구해줄 수 있는 함수 작성"
   ]
  },
  {
   "cell_type": "code",
   "execution_count": 93,
   "metadata": {},
   "outputs": [],
   "source": [
    "def func_percentage(line):\n",
    "    percentage = []\n",
    "    for i in line['crowdedness'].unique():\n",
    "        percentage.append(round(float(line[line['crowdedness'] == i]['count_people'])/line['count_people'].sum()*100,2))\n",
    "    percentage\n",
    "    return percentage"
   ]
  },
  {
   "cell_type": "markdown",
   "metadata": {},
   "source": [
    "#### 라인별 착석자수로 이루어진 새로운 테이블 생성\n",
    "퍼센트를 담을 list 생성"
   ]
  },
  {
   "cell_type": "code",
   "execution_count": 71,
   "metadata": {},
   "outputs": [
    {
     "data": {
      "text/html": [
       "<div>\n",
       "<style scoped>\n",
       "    .dataframe tbody tr th:only-of-type {\n",
       "        vertical-align: middle;\n",
       "    }\n",
       "\n",
       "    .dataframe tbody tr th {\n",
       "        vertical-align: top;\n",
       "    }\n",
       "\n",
       "    .dataframe thead th {\n",
       "        text-align: right;\n",
       "    }\n",
       "</style>\n",
       "<table border=\"1\" class=\"dataframe\">\n",
       "  <thead>\n",
       "    <tr style=\"text-align: right;\">\n",
       "      <th></th>\n",
       "      <th>line</th>\n",
       "      <th>crowdedness</th>\n",
       "      <th>count_people</th>\n",
       "    </tr>\n",
       "  </thead>\n",
       "  <tbody>\n",
       "    <tr>\n",
       "      <th>0</th>\n",
       "      <td>1</td>\n",
       "      <td>E</td>\n",
       "      <td>23</td>\n",
       "    </tr>\n",
       "    <tr>\n",
       "      <th>1</th>\n",
       "      <td>1</td>\n",
       "      <td>F</td>\n",
       "      <td>99</td>\n",
       "    </tr>\n",
       "    <tr>\n",
       "      <th>2</th>\n",
       "      <td>1</td>\n",
       "      <td>N</td>\n",
       "      <td>86</td>\n",
       "    </tr>\n",
       "    <tr>\n",
       "      <th>3</th>\n",
       "      <td>2</td>\n",
       "      <td>E</td>\n",
       "      <td>1</td>\n",
       "    </tr>\n",
       "    <tr>\n",
       "      <th>4</th>\n",
       "      <td>2</td>\n",
       "      <td>N</td>\n",
       "      <td>4</td>\n",
       "    </tr>\n",
       "    <tr>\n",
       "      <th>5</th>\n",
       "      <td>3</td>\n",
       "      <td>F</td>\n",
       "      <td>1</td>\n",
       "    </tr>\n",
       "    <tr>\n",
       "      <th>6</th>\n",
       "      <td>5</td>\n",
       "      <td>E</td>\n",
       "      <td>14</td>\n",
       "    </tr>\n",
       "    <tr>\n",
       "      <th>7</th>\n",
       "      <td>5</td>\n",
       "      <td>F</td>\n",
       "      <td>63</td>\n",
       "    </tr>\n",
       "    <tr>\n",
       "      <th>8</th>\n",
       "      <td>5</td>\n",
       "      <td>N</td>\n",
       "      <td>59</td>\n",
       "    </tr>\n",
       "    <tr>\n",
       "      <th>9</th>\n",
       "      <td>6</td>\n",
       "      <td>E</td>\n",
       "      <td>9</td>\n",
       "    </tr>\n",
       "    <tr>\n",
       "      <th>10</th>\n",
       "      <td>6</td>\n",
       "      <td>F</td>\n",
       "      <td>15</td>\n",
       "    </tr>\n",
       "    <tr>\n",
       "      <th>11</th>\n",
       "      <td>6</td>\n",
       "      <td>N</td>\n",
       "      <td>53</td>\n",
       "    </tr>\n",
       "    <tr>\n",
       "      <th>12</th>\n",
       "      <td>7</td>\n",
       "      <td>E</td>\n",
       "      <td>12</td>\n",
       "    </tr>\n",
       "    <tr>\n",
       "      <th>13</th>\n",
       "      <td>7</td>\n",
       "      <td>F</td>\n",
       "      <td>24</td>\n",
       "    </tr>\n",
       "    <tr>\n",
       "      <th>14</th>\n",
       "      <td>7</td>\n",
       "      <td>N</td>\n",
       "      <td>15</td>\n",
       "    </tr>\n",
       "    <tr>\n",
       "      <th>15</th>\n",
       "      <td>9</td>\n",
       "      <td>E</td>\n",
       "      <td>1</td>\n",
       "    </tr>\n",
       "    <tr>\n",
       "      <th>16</th>\n",
       "      <td>9</td>\n",
       "      <td>F</td>\n",
       "      <td>5</td>\n",
       "    </tr>\n",
       "    <tr>\n",
       "      <th>17</th>\n",
       "      <td>9</td>\n",
       "      <td>N</td>\n",
       "      <td>2</td>\n",
       "    </tr>\n",
       "    <tr>\n",
       "      <th>18</th>\n",
       "      <td>10</td>\n",
       "      <td>E</td>\n",
       "      <td>6</td>\n",
       "    </tr>\n",
       "    <tr>\n",
       "      <th>19</th>\n",
       "      <td>10</td>\n",
       "      <td>F</td>\n",
       "      <td>44</td>\n",
       "    </tr>\n",
       "    <tr>\n",
       "      <th>20</th>\n",
       "      <td>10</td>\n",
       "      <td>N</td>\n",
       "      <td>11</td>\n",
       "    </tr>\n",
       "    <tr>\n",
       "      <th>21</th>\n",
       "      <td>11</td>\n",
       "      <td>F</td>\n",
       "      <td>3</td>\n",
       "    </tr>\n",
       "  </tbody>\n",
       "</table>\n",
       "</div>"
      ],
      "text/plain": [
       "    line crowdedness  count_people\n",
       "0      1           E            23\n",
       "1      1           F            99\n",
       "2      1           N            86\n",
       "3      2           E             1\n",
       "4      2           N             4\n",
       "5      3           F             1\n",
       "6      5           E            14\n",
       "7      5           F            63\n",
       "8      5           N            59\n",
       "9      6           E             9\n",
       "10     6           F            15\n",
       "11     6           N            53\n",
       "12     7           E            12\n",
       "13     7           F            24\n",
       "14     7           N            15\n",
       "15     9           E             1\n",
       "16     9           F             5\n",
       "17     9           N             2\n",
       "18    10           E             6\n",
       "19    10           F            44\n",
       "20    10           N            11\n",
       "21    11           F             3"
      ]
     },
     "execution_count": 71,
     "metadata": {},
     "output_type": "execute_result"
    }
   ],
   "source": [
    "lines_total_counts = pd.DataFrame(not_pregnant.groupby(['line','crowdedness'])['date'].size()).reset_index().rename(columns={'date':'count_people'})\n",
    "lines_total_counts"
   ]
  },
  {
   "cell_type": "code",
   "execution_count": 85,
   "metadata": {},
   "outputs": [],
   "source": [
    "lines_p_list = []"
   ]
  },
  {
   "cell_type": "markdown",
   "metadata": {},
   "source": [
    "#### <1호선> 붐빔정도에 따른 임산부석 착석 확률"
   ]
  },
  {
   "cell_type": "code",
   "execution_count": 95,
   "metadata": {},
   "outputs": [
    {
     "name": "stderr",
     "output_type": "stream",
     "text": [
      "/home/leebom/.local/lib/python3.6/site-packages/ipykernel_launcher.py:2: SettingWithCopyWarning: \n",
      "A value is trying to be set on a copy of a slice from a DataFrame.\n",
      "Try using .loc[row_indexer,col_indexer] = value instead\n",
      "\n",
      "See the caveats in the documentation: http://pandas.pydata.org/pandas-docs/stable/user_guide/indexing.html#returning-a-view-versus-a-copy\n",
      "  \n"
     ]
    },
    {
     "data": {
      "text/html": [
       "<div>\n",
       "<style scoped>\n",
       "    .dataframe tbody tr th:only-of-type {\n",
       "        vertical-align: middle;\n",
       "    }\n",
       "\n",
       "    .dataframe tbody tr th {\n",
       "        vertical-align: top;\n",
       "    }\n",
       "\n",
       "    .dataframe thead th {\n",
       "        text-align: right;\n",
       "    }\n",
       "</style>\n",
       "<table border=\"1\" class=\"dataframe\">\n",
       "  <thead>\n",
       "    <tr style=\"text-align: right;\">\n",
       "      <th></th>\n",
       "      <th>line</th>\n",
       "      <th>crowdedness</th>\n",
       "      <th>count_people</th>\n",
       "      <th>people_percentage</th>\n",
       "    </tr>\n",
       "  </thead>\n",
       "  <tbody>\n",
       "    <tr>\n",
       "      <th>0</th>\n",
       "      <td>1</td>\n",
       "      <td>E</td>\n",
       "      <td>23</td>\n",
       "      <td>11.06</td>\n",
       "    </tr>\n",
       "    <tr>\n",
       "      <th>1</th>\n",
       "      <td>1</td>\n",
       "      <td>F</td>\n",
       "      <td>99</td>\n",
       "      <td>47.60</td>\n",
       "    </tr>\n",
       "    <tr>\n",
       "      <th>2</th>\n",
       "      <td>1</td>\n",
       "      <td>N</td>\n",
       "      <td>86</td>\n",
       "      <td>41.35</td>\n",
       "    </tr>\n",
       "  </tbody>\n",
       "</table>\n",
       "</div>"
      ],
      "text/plain": [
       "   line crowdedness  count_people  people_percentage\n",
       "0     1           E            23              11.06\n",
       "1     1           F            99              47.60\n",
       "2     1           N            86              41.35"
      ]
     },
     "execution_count": 95,
     "metadata": {},
     "output_type": "execute_result"
    }
   ],
   "source": [
    "line1 = lines_total_counts[lines_total_counts['line'] == 1]\n",
    "line1['people_percentage'] = func_percentage(line1)\n",
    "line1"
   ]
  },
  {
   "cell_type": "markdown",
   "metadata": {},
   "source": [
    "#### <2호선> 붐빔정도에 따른 임산부석 착석 확률"
   ]
  },
  {
   "cell_type": "code",
   "execution_count": 96,
   "metadata": {},
   "outputs": [
    {
     "name": "stderr",
     "output_type": "stream",
     "text": [
      "/home/leebom/.local/lib/python3.6/site-packages/ipykernel_launcher.py:2: SettingWithCopyWarning: \n",
      "A value is trying to be set on a copy of a slice from a DataFrame.\n",
      "Try using .loc[row_indexer,col_indexer] = value instead\n",
      "\n",
      "See the caveats in the documentation: http://pandas.pydata.org/pandas-docs/stable/user_guide/indexing.html#returning-a-view-versus-a-copy\n",
      "  \n"
     ]
    },
    {
     "data": {
      "text/html": [
       "<div>\n",
       "<style scoped>\n",
       "    .dataframe tbody tr th:only-of-type {\n",
       "        vertical-align: middle;\n",
       "    }\n",
       "\n",
       "    .dataframe tbody tr th {\n",
       "        vertical-align: top;\n",
       "    }\n",
       "\n",
       "    .dataframe thead th {\n",
       "        text-align: right;\n",
       "    }\n",
       "</style>\n",
       "<table border=\"1\" class=\"dataframe\">\n",
       "  <thead>\n",
       "    <tr style=\"text-align: right;\">\n",
       "      <th></th>\n",
       "      <th>line</th>\n",
       "      <th>crowdedness</th>\n",
       "      <th>count_people</th>\n",
       "      <th>people_percentage</th>\n",
       "    </tr>\n",
       "  </thead>\n",
       "  <tbody>\n",
       "    <tr>\n",
       "      <th>3</th>\n",
       "      <td>2</td>\n",
       "      <td>E</td>\n",
       "      <td>1</td>\n",
       "      <td>20.0</td>\n",
       "    </tr>\n",
       "    <tr>\n",
       "      <th>4</th>\n",
       "      <td>2</td>\n",
       "      <td>N</td>\n",
       "      <td>4</td>\n",
       "      <td>80.0</td>\n",
       "    </tr>\n",
       "  </tbody>\n",
       "</table>\n",
       "</div>"
      ],
      "text/plain": [
       "   line crowdedness  count_people  people_percentage\n",
       "3     2           E             1               20.0\n",
       "4     2           N             4               80.0"
      ]
     },
     "execution_count": 96,
     "metadata": {},
     "output_type": "execute_result"
    }
   ],
   "source": [
    "line2 = lines_total_counts[lines_total_counts['line'] == 2]\n",
    "line2['people_percentage'] = func_percentage(line2)\n",
    "line2"
   ]
  },
  {
   "cell_type": "markdown",
   "metadata": {},
   "source": [
    "#### <3호선> 붐빔정도에 따른 임산부석 착석 확률"
   ]
  },
  {
   "cell_type": "code",
   "execution_count": 97,
   "metadata": {},
   "outputs": [
    {
     "name": "stderr",
     "output_type": "stream",
     "text": [
      "/home/leebom/.local/lib/python3.6/site-packages/ipykernel_launcher.py:2: SettingWithCopyWarning: \n",
      "A value is trying to be set on a copy of a slice from a DataFrame.\n",
      "Try using .loc[row_indexer,col_indexer] = value instead\n",
      "\n",
      "See the caveats in the documentation: http://pandas.pydata.org/pandas-docs/stable/user_guide/indexing.html#returning-a-view-versus-a-copy\n",
      "  \n"
     ]
    },
    {
     "data": {
      "text/html": [
       "<div>\n",
       "<style scoped>\n",
       "    .dataframe tbody tr th:only-of-type {\n",
       "        vertical-align: middle;\n",
       "    }\n",
       "\n",
       "    .dataframe tbody tr th {\n",
       "        vertical-align: top;\n",
       "    }\n",
       "\n",
       "    .dataframe thead th {\n",
       "        text-align: right;\n",
       "    }\n",
       "</style>\n",
       "<table border=\"1\" class=\"dataframe\">\n",
       "  <thead>\n",
       "    <tr style=\"text-align: right;\">\n",
       "      <th></th>\n",
       "      <th>line</th>\n",
       "      <th>crowdedness</th>\n",
       "      <th>count_people</th>\n",
       "      <th>people_percentage</th>\n",
       "    </tr>\n",
       "  </thead>\n",
       "  <tbody>\n",
       "    <tr>\n",
       "      <th>5</th>\n",
       "      <td>3</td>\n",
       "      <td>F</td>\n",
       "      <td>1</td>\n",
       "      <td>100.0</td>\n",
       "    </tr>\n",
       "  </tbody>\n",
       "</table>\n",
       "</div>"
      ],
      "text/plain": [
       "   line crowdedness  count_people  people_percentage\n",
       "5     3           F             1              100.0"
      ]
     },
     "execution_count": 97,
     "metadata": {},
     "output_type": "execute_result"
    }
   ],
   "source": [
    "line3 = lines_total_counts[lines_total_counts['line'] == 3]\n",
    "line3['people_percentage'] = func_percentage(line3)\n",
    "line3"
   ]
  },
  {
   "cell_type": "markdown",
   "metadata": {},
   "source": [
    "#### <5호선> 붐빔정도에 따른 임산부석 착석 확률"
   ]
  },
  {
   "cell_type": "code",
   "execution_count": 60,
   "metadata": {},
   "outputs": [
    {
     "name": "stderr",
     "output_type": "stream",
     "text": [
      "/home/leebom/.local/lib/python3.6/site-packages/ipykernel_launcher.py:5: SettingWithCopyWarning: \n",
      "A value is trying to be set on a copy of a slice from a DataFrame.\n",
      "Try using .loc[row_indexer,col_indexer] = value instead\n",
      "\n",
      "See the caveats in the documentation: http://pandas.pydata.org/pandas-docs/stable/user_guide/indexing.html#returning-a-view-versus-a-copy\n",
      "  \"\"\"\n"
     ]
    },
    {
     "data": {
      "text/html": [
       "<div>\n",
       "<style scoped>\n",
       "    .dataframe tbody tr th:only-of-type {\n",
       "        vertical-align: middle;\n",
       "    }\n",
       "\n",
       "    .dataframe tbody tr th {\n",
       "        vertical-align: top;\n",
       "    }\n",
       "\n",
       "    .dataframe thead th {\n",
       "        text-align: right;\n",
       "    }\n",
       "</style>\n",
       "<table border=\"1\" class=\"dataframe\">\n",
       "  <thead>\n",
       "    <tr style=\"text-align: right;\">\n",
       "      <th></th>\n",
       "      <th>line</th>\n",
       "      <th>crowdedness</th>\n",
       "      <th>count_people</th>\n",
       "      <th>people_percentage</th>\n",
       "    </tr>\n",
       "  </thead>\n",
       "  <tbody>\n",
       "    <tr>\n",
       "      <th>6</th>\n",
       "      <td>5</td>\n",
       "      <td>E</td>\n",
       "      <td>14</td>\n",
       "      <td>10.29</td>\n",
       "    </tr>\n",
       "    <tr>\n",
       "      <th>7</th>\n",
       "      <td>5</td>\n",
       "      <td>F</td>\n",
       "      <td>63</td>\n",
       "      <td>46.32</td>\n",
       "    </tr>\n",
       "    <tr>\n",
       "      <th>8</th>\n",
       "      <td>5</td>\n",
       "      <td>N</td>\n",
       "      <td>59</td>\n",
       "      <td>43.38</td>\n",
       "    </tr>\n",
       "  </tbody>\n",
       "</table>\n",
       "</div>"
      ],
      "text/plain": [
       "   line crowdedness  count_people  people_percentage\n",
       "6     5           E            14              10.29\n",
       "7     5           F            63              46.32\n",
       "8     5           N            59              43.38"
      ]
     },
     "execution_count": 60,
     "metadata": {},
     "output_type": "execute_result"
    }
   ],
   "source": [
    "line5 = lines_total_counts[lines_total_counts['line'] == 5]\n",
    "line5['people_percentage'] = func_percentage(line5)\n",
    "line5"
   ]
  },
  {
   "cell_type": "markdown",
   "metadata": {},
   "source": [
    "#### <6호선> 붐빔정도에 따른 임산부석 착석 확률"
   ]
  },
  {
   "cell_type": "code",
   "execution_count": 61,
   "metadata": {},
   "outputs": [
    {
     "name": "stderr",
     "output_type": "stream",
     "text": [
      "/home/leebom/.local/lib/python3.6/site-packages/ipykernel_launcher.py:5: SettingWithCopyWarning: \n",
      "A value is trying to be set on a copy of a slice from a DataFrame.\n",
      "Try using .loc[row_indexer,col_indexer] = value instead\n",
      "\n",
      "See the caveats in the documentation: http://pandas.pydata.org/pandas-docs/stable/user_guide/indexing.html#returning-a-view-versus-a-copy\n",
      "  \"\"\"\n"
     ]
    },
    {
     "data": {
      "text/html": [
       "<div>\n",
       "<style scoped>\n",
       "    .dataframe tbody tr th:only-of-type {\n",
       "        vertical-align: middle;\n",
       "    }\n",
       "\n",
       "    .dataframe tbody tr th {\n",
       "        vertical-align: top;\n",
       "    }\n",
       "\n",
       "    .dataframe thead th {\n",
       "        text-align: right;\n",
       "    }\n",
       "</style>\n",
       "<table border=\"1\" class=\"dataframe\">\n",
       "  <thead>\n",
       "    <tr style=\"text-align: right;\">\n",
       "      <th></th>\n",
       "      <th>line</th>\n",
       "      <th>crowdedness</th>\n",
       "      <th>count_people</th>\n",
       "      <th>people_percentage</th>\n",
       "    </tr>\n",
       "  </thead>\n",
       "  <tbody>\n",
       "    <tr>\n",
       "      <th>9</th>\n",
       "      <td>6</td>\n",
       "      <td>E</td>\n",
       "      <td>9</td>\n",
       "      <td>11.69</td>\n",
       "    </tr>\n",
       "    <tr>\n",
       "      <th>10</th>\n",
       "      <td>6</td>\n",
       "      <td>F</td>\n",
       "      <td>15</td>\n",
       "      <td>19.48</td>\n",
       "    </tr>\n",
       "    <tr>\n",
       "      <th>11</th>\n",
       "      <td>6</td>\n",
       "      <td>N</td>\n",
       "      <td>53</td>\n",
       "      <td>68.83</td>\n",
       "    </tr>\n",
       "  </tbody>\n",
       "</table>\n",
       "</div>"
      ],
      "text/plain": [
       "    line crowdedness  count_people  people_percentage\n",
       "9      6           E             9              11.69\n",
       "10     6           F            15              19.48\n",
       "11     6           N            53              68.83"
      ]
     },
     "execution_count": 61,
     "metadata": {},
     "output_type": "execute_result"
    }
   ],
   "source": [
    "line6 = lines_total_counts[lines_total_counts['line'] == 6]\n",
    "func_percentage(line6)"
   ]
  },
  {
   "cell_type": "markdown",
   "metadata": {},
   "source": [
    "#### <7호선> 붐빔정도에 따른 임산부석 착석 확률"
   ]
  },
  {
   "cell_type": "code",
   "execution_count": 62,
   "metadata": {},
   "outputs": [
    {
     "name": "stderr",
     "output_type": "stream",
     "text": [
      "/home/leebom/.local/lib/python3.6/site-packages/ipykernel_launcher.py:5: SettingWithCopyWarning: \n",
      "A value is trying to be set on a copy of a slice from a DataFrame.\n",
      "Try using .loc[row_indexer,col_indexer] = value instead\n",
      "\n",
      "See the caveats in the documentation: http://pandas.pydata.org/pandas-docs/stable/user_guide/indexing.html#returning-a-view-versus-a-copy\n",
      "  \"\"\"\n"
     ]
    },
    {
     "data": {
      "text/html": [
       "<div>\n",
       "<style scoped>\n",
       "    .dataframe tbody tr th:only-of-type {\n",
       "        vertical-align: middle;\n",
       "    }\n",
       "\n",
       "    .dataframe tbody tr th {\n",
       "        vertical-align: top;\n",
       "    }\n",
       "\n",
       "    .dataframe thead th {\n",
       "        text-align: right;\n",
       "    }\n",
       "</style>\n",
       "<table border=\"1\" class=\"dataframe\">\n",
       "  <thead>\n",
       "    <tr style=\"text-align: right;\">\n",
       "      <th></th>\n",
       "      <th>line</th>\n",
       "      <th>crowdedness</th>\n",
       "      <th>count_people</th>\n",
       "      <th>people_percentage</th>\n",
       "    </tr>\n",
       "  </thead>\n",
       "  <tbody>\n",
       "    <tr>\n",
       "      <th>12</th>\n",
       "      <td>7</td>\n",
       "      <td>E</td>\n",
       "      <td>12</td>\n",
       "      <td>23.53</td>\n",
       "    </tr>\n",
       "    <tr>\n",
       "      <th>13</th>\n",
       "      <td>7</td>\n",
       "      <td>F</td>\n",
       "      <td>24</td>\n",
       "      <td>47.06</td>\n",
       "    </tr>\n",
       "    <tr>\n",
       "      <th>14</th>\n",
       "      <td>7</td>\n",
       "      <td>N</td>\n",
       "      <td>15</td>\n",
       "      <td>29.41</td>\n",
       "    </tr>\n",
       "  </tbody>\n",
       "</table>\n",
       "</div>"
      ],
      "text/plain": [
       "    line crowdedness  count_people  people_percentage\n",
       "12     7           E            12              23.53\n",
       "13     7           F            24              47.06\n",
       "14     7           N            15              29.41"
      ]
     },
     "execution_count": 62,
     "metadata": {},
     "output_type": "execute_result"
    }
   ],
   "source": [
    "line7 = lines_total_counts[lines_total_counts['line'] == 7]\n",
    "func_percentage(line7)"
   ]
  },
  {
   "cell_type": "markdown",
   "metadata": {},
   "source": [
    "#### <9호선> 붐빔정도에 따른 임산부석 착석 확률"
   ]
  },
  {
   "cell_type": "code",
   "execution_count": 63,
   "metadata": {},
   "outputs": [
    {
     "name": "stderr",
     "output_type": "stream",
     "text": [
      "/home/leebom/.local/lib/python3.6/site-packages/ipykernel_launcher.py:5: SettingWithCopyWarning: \n",
      "A value is trying to be set on a copy of a slice from a DataFrame.\n",
      "Try using .loc[row_indexer,col_indexer] = value instead\n",
      "\n",
      "See the caveats in the documentation: http://pandas.pydata.org/pandas-docs/stable/user_guide/indexing.html#returning-a-view-versus-a-copy\n",
      "  \"\"\"\n"
     ]
    },
    {
     "data": {
      "text/html": [
       "<div>\n",
       "<style scoped>\n",
       "    .dataframe tbody tr th:only-of-type {\n",
       "        vertical-align: middle;\n",
       "    }\n",
       "\n",
       "    .dataframe tbody tr th {\n",
       "        vertical-align: top;\n",
       "    }\n",
       "\n",
       "    .dataframe thead th {\n",
       "        text-align: right;\n",
       "    }\n",
       "</style>\n",
       "<table border=\"1\" class=\"dataframe\">\n",
       "  <thead>\n",
       "    <tr style=\"text-align: right;\">\n",
       "      <th></th>\n",
       "      <th>line</th>\n",
       "      <th>crowdedness</th>\n",
       "      <th>count_people</th>\n",
       "      <th>people_percentage</th>\n",
       "    </tr>\n",
       "  </thead>\n",
       "  <tbody>\n",
       "    <tr>\n",
       "      <th>15</th>\n",
       "      <td>9</td>\n",
       "      <td>E</td>\n",
       "      <td>1</td>\n",
       "      <td>12.5</td>\n",
       "    </tr>\n",
       "    <tr>\n",
       "      <th>16</th>\n",
       "      <td>9</td>\n",
       "      <td>F</td>\n",
       "      <td>5</td>\n",
       "      <td>62.5</td>\n",
       "    </tr>\n",
       "    <tr>\n",
       "      <th>17</th>\n",
       "      <td>9</td>\n",
       "      <td>N</td>\n",
       "      <td>2</td>\n",
       "      <td>25.0</td>\n",
       "    </tr>\n",
       "  </tbody>\n",
       "</table>\n",
       "</div>"
      ],
      "text/plain": [
       "    line crowdedness  count_people  people_percentage\n",
       "15     9           E             1               12.5\n",
       "16     9           F             5               62.5\n",
       "17     9           N             2               25.0"
      ]
     },
     "execution_count": 63,
     "metadata": {},
     "output_type": "execute_result"
    }
   ],
   "source": [
    "line9 = lines_total_counts[lines_total_counts['line'] == 9]\n",
    "func_percentage(line9)"
   ]
  },
  {
   "cell_type": "markdown",
   "metadata": {},
   "source": [
    "#### <분당선> 붐빔정도에 따른 임산부석 착석 확률"
   ]
  },
  {
   "cell_type": "code",
   "execution_count": 64,
   "metadata": {},
   "outputs": [
    {
     "name": "stderr",
     "output_type": "stream",
     "text": [
      "/home/leebom/.local/lib/python3.6/site-packages/ipykernel_launcher.py:5: SettingWithCopyWarning: \n",
      "A value is trying to be set on a copy of a slice from a DataFrame.\n",
      "Try using .loc[row_indexer,col_indexer] = value instead\n",
      "\n",
      "See the caveats in the documentation: http://pandas.pydata.org/pandas-docs/stable/user_guide/indexing.html#returning-a-view-versus-a-copy\n",
      "  \"\"\"\n"
     ]
    },
    {
     "data": {
      "text/html": [
       "<div>\n",
       "<style scoped>\n",
       "    .dataframe tbody tr th:only-of-type {\n",
       "        vertical-align: middle;\n",
       "    }\n",
       "\n",
       "    .dataframe tbody tr th {\n",
       "        vertical-align: top;\n",
       "    }\n",
       "\n",
       "    .dataframe thead th {\n",
       "        text-align: right;\n",
       "    }\n",
       "</style>\n",
       "<table border=\"1\" class=\"dataframe\">\n",
       "  <thead>\n",
       "    <tr style=\"text-align: right;\">\n",
       "      <th></th>\n",
       "      <th>line</th>\n",
       "      <th>crowdedness</th>\n",
       "      <th>count_people</th>\n",
       "      <th>people_percentage</th>\n",
       "    </tr>\n",
       "  </thead>\n",
       "  <tbody>\n",
       "    <tr>\n",
       "      <th>18</th>\n",
       "      <td>10</td>\n",
       "      <td>E</td>\n",
       "      <td>6</td>\n",
       "      <td>9.84</td>\n",
       "    </tr>\n",
       "    <tr>\n",
       "      <th>19</th>\n",
       "      <td>10</td>\n",
       "      <td>F</td>\n",
       "      <td>44</td>\n",
       "      <td>72.13</td>\n",
       "    </tr>\n",
       "    <tr>\n",
       "      <th>20</th>\n",
       "      <td>10</td>\n",
       "      <td>N</td>\n",
       "      <td>11</td>\n",
       "      <td>18.03</td>\n",
       "    </tr>\n",
       "  </tbody>\n",
       "</table>\n",
       "</div>"
      ],
      "text/plain": [
       "    line crowdedness  count_people  people_percentage\n",
       "18    10           E             6               9.84\n",
       "19    10           F            44              72.13\n",
       "20    10           N            11              18.03"
      ]
     },
     "execution_count": 64,
     "metadata": {},
     "output_type": "execute_result"
    }
   ],
   "source": [
    "line10 = lines_total_counts[lines_total_counts['line'] == 10]\n",
    "func_percentage(line10)"
   ]
  },
  {
   "cell_type": "markdown",
   "metadata": {},
   "source": [
    "#### <경의중앙선> 붐빔정도에 따른 확률 확인"
   ]
  },
  {
   "cell_type": "code",
   "execution_count": 65,
   "metadata": {},
   "outputs": [
    {
     "name": "stderr",
     "output_type": "stream",
     "text": [
      "/home/leebom/.local/lib/python3.6/site-packages/ipykernel_launcher.py:5: SettingWithCopyWarning: \n",
      "A value is trying to be set on a copy of a slice from a DataFrame.\n",
      "Try using .loc[row_indexer,col_indexer] = value instead\n",
      "\n",
      "See the caveats in the documentation: http://pandas.pydata.org/pandas-docs/stable/user_guide/indexing.html#returning-a-view-versus-a-copy\n",
      "  \"\"\"\n"
     ]
    },
    {
     "data": {
      "text/html": [
       "<div>\n",
       "<style scoped>\n",
       "    .dataframe tbody tr th:only-of-type {\n",
       "        vertical-align: middle;\n",
       "    }\n",
       "\n",
       "    .dataframe tbody tr th {\n",
       "        vertical-align: top;\n",
       "    }\n",
       "\n",
       "    .dataframe thead th {\n",
       "        text-align: right;\n",
       "    }\n",
       "</style>\n",
       "<table border=\"1\" class=\"dataframe\">\n",
       "  <thead>\n",
       "    <tr style=\"text-align: right;\">\n",
       "      <th></th>\n",
       "      <th>line</th>\n",
       "      <th>crowdedness</th>\n",
       "      <th>count_people</th>\n",
       "      <th>people_percentage</th>\n",
       "    </tr>\n",
       "  </thead>\n",
       "  <tbody>\n",
       "    <tr>\n",
       "      <th>21</th>\n",
       "      <td>11</td>\n",
       "      <td>F</td>\n",
       "      <td>3</td>\n",
       "      <td>100.0</td>\n",
       "    </tr>\n",
       "  </tbody>\n",
       "</table>\n",
       "</div>"
      ],
      "text/plain": [
       "    line crowdedness  count_people  people_percentage\n",
       "21    11           F             3              100.0"
      ]
     },
     "execution_count": 65,
     "metadata": {},
     "output_type": "execute_result"
    }
   ],
   "source": [
    "line11 = lines_total_counts[lines_total_counts['line'] == 11]\n",
    "func_percentage(line11)"
   ]
  },
  {
   "cell_type": "markdown",
   "metadata": {},
   "source": [
    "#### 각 호선별 퍼센테이지 컬럼 전체보기"
   ]
  },
  {
   "cell_type": "code",
   "execution_count": 90,
   "metadata": {},
   "outputs": [
    {
     "name": "stderr",
     "output_type": "stream",
     "text": [
      "/home/leebom/.local/lib/python3.6/site-packages/ipykernel_launcher.py:5: SettingWithCopyWarning: \n",
      "A value is trying to be set on a copy of a slice from a DataFrame.\n",
      "Try using .loc[row_indexer,col_indexer] = value instead\n",
      "\n",
      "See the caveats in the documentation: http://pandas.pydata.org/pandas-docs/stable/user_guide/indexing.html#returning-a-view-versus-a-copy\n",
      "  \"\"\"\n"
     ]
    },
    {
     "data": {
      "text/plain": [
       "[   line crowdedness  count_people  people_percentage\n",
       " 0     1           E            23              11.06\n",
       " 1     1           F            99              47.60\n",
       " 2     1           N            86              41.35,\n",
       "    line crowdedness  count_people  people_percentage\n",
       " 3     2           E             1               20.0\n",
       " 4     2           N             4               80.0,\n",
       "    line crowdedness  count_people  people_percentage\n",
       " 5     3           F             1              100.0,\n",
       "    line crowdedness  count_people  people_percentage\n",
       " 6     5           E            14              10.29\n",
       " 7     5           F            63              46.32\n",
       " 8     5           N            59              43.38,\n",
       "     line crowdedness  count_people  people_percentage\n",
       " 9      6           E             9              11.69\n",
       " 10     6           F            15              19.48\n",
       " 11     6           N            53              68.83,\n",
       "     line crowdedness  count_people  people_percentage\n",
       " 12     7           E            12              23.53\n",
       " 13     7           F            24              47.06\n",
       " 14     7           N            15              29.41,\n",
       "     line crowdedness  count_people  people_percentage\n",
       " 15     9           E             1               12.5\n",
       " 16     9           F             5               62.5\n",
       " 17     9           N             2               25.0,\n",
       "     line crowdedness  count_people  people_percentage\n",
       " 18    10           E             6               9.84\n",
       " 19    10           F            44              72.13\n",
       " 20    10           N            11              18.03,\n",
       "     line crowdedness  count_people  people_percentage\n",
       " 21    11           F             3              100.0,\n",
       "    line crowdedness  count_people  people_percentage\n",
       " 0     1           E            23              11.06\n",
       " 1     1           F            99              47.60\n",
       " 2     1           N            86              41.35,\n",
       "    line crowdedness  count_people  people_percentage\n",
       " 3     2           E             1               20.0\n",
       " 4     2           N             4               80.0,\n",
       "    line crowdedness  count_people  people_percentage\n",
       " 5     3           F             1              100.0,\n",
       "    line crowdedness  count_people  people_percentage\n",
       " 6     5           E            14              10.29\n",
       " 7     5           F            63              46.32\n",
       " 8     5           N            59              43.38,\n",
       "     line crowdedness  count_people  people_percentage\n",
       " 9      6           E             9              11.69\n",
       " 10     6           F            15              19.48\n",
       " 11     6           N            53              68.83,\n",
       "     line crowdedness  count_people  people_percentage\n",
       " 12     7           E            12              23.53\n",
       " 13     7           F            24              47.06\n",
       " 14     7           N            15              29.41,\n",
       "     line crowdedness  count_people  people_percentage\n",
       " 15     9           E             1               12.5\n",
       " 16     9           F             5               62.5\n",
       " 17     9           N             2               25.0,\n",
       "     line crowdedness  count_people  people_percentage\n",
       " 18    10           E             6               9.84\n",
       " 19    10           F            44              72.13\n",
       " 20    10           N            11              18.03,\n",
       "     line crowdedness  count_people  people_percentage\n",
       " 21    11           F             3              100.0,\n",
       "    line crowdedness  count_people  people_percentage\n",
       " 0     1           E            23              11.06\n",
       " 1     1           F            99              47.60\n",
       " 2     1           N            86              41.35,\n",
       "    line crowdedness  count_people  people_percentage\n",
       " 3     2           E             1               20.0\n",
       " 4     2           N             4               80.0,\n",
       "    line crowdedness  count_people  people_percentage\n",
       " 5     3           F             1              100.0,\n",
       "    line crowdedness  count_people  people_percentage\n",
       " 6     5           E            14              10.29\n",
       " 7     5           F            63              46.32\n",
       " 8     5           N            59              43.38,\n",
       "     line crowdedness  count_people  people_percentage\n",
       " 9      6           E             9              11.69\n",
       " 10     6           F            15              19.48\n",
       " 11     6           N            53              68.83,\n",
       "     line crowdedness  count_people  people_percentage\n",
       " 12     7           E            12              23.53\n",
       " 13     7           F            24              47.06\n",
       " 14     7           N            15              29.41,\n",
       "     line crowdedness  count_people  people_percentage\n",
       " 15     9           E             1               12.5\n",
       " 16     9           F             5               62.5\n",
       " 17     9           N             2               25.0,\n",
       "     line crowdedness  count_people  people_percentage\n",
       " 18    10           E             6               9.84\n",
       " 19    10           F            44              72.13\n",
       " 20    10           N            11              18.03,\n",
       "     line crowdedness  count_people  people_percentage\n",
       " 21    11           F             3              100.0,\n",
       "    line crowdedness  count_people  people_percentage\n",
       " 0     1           E            23              11.06\n",
       " 1     1           F            99              47.60\n",
       " 2     1           N            86              41.35,\n",
       "    line crowdedness  count_people  people_percentage\n",
       " 3     2           E             1               20.0\n",
       " 4     2           N             4               80.0,\n",
       "    line crowdedness  count_people  people_percentage\n",
       " 5     3           F             1              100.0,\n",
       "    line crowdedness  count_people  people_percentage\n",
       " 6     5           E            14              10.29\n",
       " 7     5           F            63              46.32\n",
       " 8     5           N            59              43.38,\n",
       "     line crowdedness  count_people  people_percentage\n",
       " 9      6           E             9              11.69\n",
       " 10     6           F            15              19.48\n",
       " 11     6           N            53              68.83,\n",
       "     line crowdedness  count_people  people_percentage\n",
       " 12     7           E            12              23.53\n",
       " 13     7           F            24              47.06\n",
       " 14     7           N            15              29.41,\n",
       "     line crowdedness  count_people  people_percentage\n",
       " 15     9           E             1               12.5\n",
       " 16     9           F             5               62.5\n",
       " 17     9           N             2               25.0,\n",
       "     line crowdedness  count_people  people_percentage\n",
       " 18    10           E             6               9.84\n",
       " 19    10           F            44              72.13\n",
       " 20    10           N            11              18.03,\n",
       "     line crowdedness  count_people  people_percentage\n",
       " 21    11           F             3              100.0,\n",
       "    line crowdedness  count_people  people_percentage\n",
       " 0     1           E            23              11.06\n",
       " 1     1           F            99              47.60\n",
       " 2     1           N            86              41.35,\n",
       "    line crowdedness  count_people  people_percentage\n",
       " 3     2           E             1               20.0\n",
       " 4     2           N             4               80.0,\n",
       "    line crowdedness  count_people  people_percentage\n",
       " 5     3           F             1              100.0,\n",
       "    line crowdedness  count_people  people_percentage\n",
       " 6     5           E            14              10.29\n",
       " 7     5           F            63              46.32\n",
       " 8     5           N            59              43.38,\n",
       "     line crowdedness  count_people  people_percentage\n",
       " 9      6           E             9              11.69\n",
       " 10     6           F            15              19.48\n",
       " 11     6           N            53              68.83,\n",
       "     line crowdedness  count_people  people_percentage\n",
       " 12     7           E            12              23.53\n",
       " 13     7           F            24              47.06\n",
       " 14     7           N            15              29.41,\n",
       "     line crowdedness  count_people  people_percentage\n",
       " 15     9           E             1               12.5\n",
       " 16     9           F             5               62.5\n",
       " 17     9           N             2               25.0,\n",
       "     line crowdedness  count_people  people_percentage\n",
       " 18    10           E             6               9.84\n",
       " 19    10           F            44              72.13\n",
       " 20    10           N            11              18.03,\n",
       "     line crowdedness  count_people  people_percentage\n",
       " 21    11           F             3              100.0]"
      ]
     },
     "execution_count": 90,
     "metadata": {},
     "output_type": "execute_result"
    }
   ],
   "source": [
    "for i in lines_total_counts['line'].unique():\n",
    "    lines_p_list.append(func_percentage(lines_total_counts[lines_total_counts['line'] == i]))\n",
    "\n",
    "    \n",
    "lines_p_list"
   ]
  },
  {
   "cell_type": "code",
   "execution_count": null,
   "metadata": {},
   "outputs": [],
   "source": []
  },
  {
   "cell_type": "code",
   "execution_count": null,
   "metadata": {},
   "outputs": [],
   "source": []
  },
  {
   "cell_type": "code",
   "execution_count": null,
   "metadata": {},
   "outputs": [],
   "source": []
  },
  {
   "cell_type": "code",
   "execution_count": null,
   "metadata": {},
   "outputs": [],
   "source": []
  },
  {
   "cell_type": "code",
   "execution_count": 70,
   "metadata": {},
   "outputs": [
    {
     "data": {
      "text/html": [
       "<div>\n",
       "<style scoped>\n",
       "    .dataframe tbody tr th:only-of-type {\n",
       "        vertical-align: middle;\n",
       "    }\n",
       "\n",
       "    .dataframe tbody tr th {\n",
       "        vertical-align: top;\n",
       "    }\n",
       "\n",
       "    .dataframe thead th {\n",
       "        text-align: right;\n",
       "    }\n",
       "</style>\n",
       "<table border=\"1\" class=\"dataframe\">\n",
       "  <thead>\n",
       "    <tr style=\"text-align: right;\">\n",
       "      <th></th>\n",
       "      <th>crowdedness</th>\n",
       "    </tr>\n",
       "    <tr>\n",
       "      <th>line</th>\n",
       "      <th></th>\n",
       "    </tr>\n",
       "  </thead>\n",
       "  <tbody>\n",
       "    <tr>\n",
       "      <th>1</th>\n",
       "      <td>208</td>\n",
       "    </tr>\n",
       "    <tr>\n",
       "      <th>2</th>\n",
       "      <td>5</td>\n",
       "    </tr>\n",
       "    <tr>\n",
       "      <th>3</th>\n",
       "      <td>1</td>\n",
       "    </tr>\n",
       "    <tr>\n",
       "      <th>5</th>\n",
       "      <td>136</td>\n",
       "    </tr>\n",
       "    <tr>\n",
       "      <th>6</th>\n",
       "      <td>77</td>\n",
       "    </tr>\n",
       "    <tr>\n",
       "      <th>7</th>\n",
       "      <td>51</td>\n",
       "    </tr>\n",
       "    <tr>\n",
       "      <th>9</th>\n",
       "      <td>8</td>\n",
       "    </tr>\n",
       "    <tr>\n",
       "      <th>10</th>\n",
       "      <td>61</td>\n",
       "    </tr>\n",
       "    <tr>\n",
       "      <th>11</th>\n",
       "      <td>3</td>\n",
       "    </tr>\n",
       "  </tbody>\n",
       "</table>\n",
       "</div>"
      ],
      "text/plain": [
       "      crowdedness\n",
       "line             \n",
       "1             208\n",
       "2               5\n",
       "3               1\n",
       "5             136\n",
       "6              77\n",
       "7              51\n",
       "9               8\n",
       "10             61\n",
       "11              3"
      ]
     },
     "execution_count": 70,
     "metadata": {},
     "output_type": "execute_result"
    }
   ],
   "source": [
    "lines_status_sizes = pd.DataFrame(not_pregnant.groupby(['line'])['crowdedness'].count())\n",
    "lines_status_sizes"
   ]
  },
  {
   "cell_type": "markdown",
   "metadata": {},
   "source": [
    "#### 3. 호선별 비임산부 착석 수 퍼센테이지"
   ]
  },
  {
   "cell_type": "code",
   "execution_count": 71,
   "metadata": {},
   "outputs": [
    {
     "ename": "NameError",
     "evalue": "name 'total_set_lc' is not defined",
     "output_type": "error",
     "traceback": [
      "\u001b[0;31m---------------------------------------------------------------------------\u001b[0m",
      "\u001b[0;31mNameError\u001b[0m                                 Traceback (most recent call last)",
      "\u001b[0;32m<ipython-input-71-66cfeec3a6aa>\u001b[0m in \u001b[0;36m<module>\u001b[0;34m\u001b[0m\n\u001b[0;32m----> 1\u001b[0;31m \u001b[0mtotal_set_lc\u001b[0m\u001b[0;34m[\u001b[0m\u001b[0;34m'line'\u001b[0m\u001b[0;34m]\u001b[0m\u001b[0;34m\u001b[0m\u001b[0;34m\u001b[0m\u001b[0m\n\u001b[0m",
      "\u001b[0;31mNameError\u001b[0m: name 'total_set_lc' is not defined"
     ]
    }
   ],
   "source": [
    "total_set_lc['line']"
   ]
  },
  {
   "cell_type": "code",
   "execution_count": null,
   "metadata": {},
   "outputs": [],
   "source": []
  },
  {
   "cell_type": "code",
   "execution_count": null,
   "metadata": {},
   "outputs": [],
   "source": []
  },
  {
   "cell_type": "code",
   "execution_count": null,
   "metadata": {},
   "outputs": [],
   "source": []
  },
  {
   "cell_type": "code",
   "execution_count": null,
   "metadata": {},
   "outputs": [],
   "source": []
  },
  {
   "cell_type": "code",
   "execution_count": null,
   "metadata": {},
   "outputs": [],
   "source": []
  }
 ],
 "metadata": {
  "colab": {
   "collapsed_sections": [],
   "name": "pspw_0821.ipynb",
   "provenance": [],
   "version": "0.3.2"
  },
  "kernelspec": {
   "display_name": "Python 3",
   "language": "python",
   "name": "python3"
  },
  "language_info": {
   "codemirror_mode": {
    "name": "ipython",
    "version": 3
   },
   "file_extension": ".py",
   "mimetype": "text/x-python",
   "name": "python",
   "nbconvert_exporter": "python",
   "pygments_lexer": "ipython3",
   "version": "3.6.8"
  }
 },
 "nbformat": 4,
 "nbformat_minor": 1
}

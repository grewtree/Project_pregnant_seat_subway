{
 "cells": [
  {
   "cell_type": "code",
   "execution_count": 87,
   "metadata": {},
   "outputs": [],
   "source": [
    "import pandas as pd\n",
    "import seaborn as sns"
   ]
  },
  {
   "cell_type": "code",
   "execution_count": 88,
   "metadata": {},
   "outputs": [],
   "source": [
    "data = pd.read_csv('../practice_data/team6_v2.csv')"
   ]
  },
  {
   "cell_type": "code",
   "execution_count": 89,
   "metadata": {},
   "outputs": [
    {
     "data": {
      "text/html": [
       "<div>\n",
       "<style scoped>\n",
       "    .dataframe tbody tr th:only-of-type {\n",
       "        vertical-align: middle;\n",
       "    }\n",
       "\n",
       "    .dataframe tbody tr th {\n",
       "        vertical-align: top;\n",
       "    }\n",
       "\n",
       "    .dataframe thead th {\n",
       "        text-align: right;\n",
       "    }\n",
       "</style>\n",
       "<table border=\"1\" class=\"dataframe\">\n",
       "  <thead>\n",
       "    <tr style=\"text-align: right;\">\n",
       "      <th></th>\n",
       "      <th>Unnamed: 0</th>\n",
       "      <th>date</th>\n",
       "      <th>time</th>\n",
       "      <th>name</th>\n",
       "      <th>line</th>\n",
       "      <th>start</th>\n",
       "      <th>stop</th>\n",
       "      <th>crowded</th>\n",
       "      <th>old_age_seat</th>\n",
       "      <th>sex</th>\n",
       "      <th>...</th>\n",
       "      <th>characteristic</th>\n",
       "      <th>bag</th>\n",
       "      <th>empty</th>\n",
       "      <th>sex2</th>\n",
       "      <th>노년</th>\n",
       "      <th>중년</th>\n",
       "      <th>청년</th>\n",
       "      <th>어린이</th>\n",
       "      <th>청소년</th>\n",
       "      <th>crowded2</th>\n",
       "    </tr>\n",
       "  </thead>\n",
       "  <tbody>\n",
       "    <tr>\n",
       "      <th>0</th>\n",
       "      <td>0</td>\n",
       "      <td>07월 31일</td>\n",
       "      <td>19:10:00</td>\n",
       "      <td>재민</td>\n",
       "      <td>5호선</td>\n",
       "      <td>공덕</td>\n",
       "      <td>여의도</td>\n",
       "      <td>N</td>\n",
       "      <td>NaN</td>\n",
       "      <td>여</td>\n",
       "      <td>...</td>\n",
       "      <td>NaN</td>\n",
       "      <td>쇼핑백, 장우산</td>\n",
       "      <td>1</td>\n",
       "      <td>1.0</td>\n",
       "      <td>0</td>\n",
       "      <td>1</td>\n",
       "      <td>0</td>\n",
       "      <td>0</td>\n",
       "      <td>0</td>\n",
       "      <td>1</td>\n",
       "    </tr>\n",
       "    <tr>\n",
       "      <th>1</th>\n",
       "      <td>1</td>\n",
       "      <td>07월 31일</td>\n",
       "      <td>19:21:00</td>\n",
       "      <td>재민</td>\n",
       "      <td>9호선</td>\n",
       "      <td>여의도</td>\n",
       "      <td>신논현</td>\n",
       "      <td>F</td>\n",
       "      <td>NaN</td>\n",
       "      <td>여</td>\n",
       "      <td>...</td>\n",
       "      <td>임산부석 비워달라는 방송이 나왔으나 아랑곳하지 않음</td>\n",
       "      <td>NaN</td>\n",
       "      <td>1</td>\n",
       "      <td>1.0</td>\n",
       "      <td>0</td>\n",
       "      <td>1</td>\n",
       "      <td>0</td>\n",
       "      <td>0</td>\n",
       "      <td>0</td>\n",
       "      <td>2</td>\n",
       "    </tr>\n",
       "    <tr>\n",
       "      <th>2</th>\n",
       "      <td>2</td>\n",
       "      <td>07월 31일</td>\n",
       "      <td>19:28:00</td>\n",
       "      <td>재민</td>\n",
       "      <td>9호선</td>\n",
       "      <td>여의도</td>\n",
       "      <td>신논현</td>\n",
       "      <td>F</td>\n",
       "      <td>NaN</td>\n",
       "      <td>여</td>\n",
       "      <td>...</td>\n",
       "      <td>NaN</td>\n",
       "      <td>NaN</td>\n",
       "      <td>1</td>\n",
       "      <td>1.0</td>\n",
       "      <td>0</td>\n",
       "      <td>0</td>\n",
       "      <td>1</td>\n",
       "      <td>0</td>\n",
       "      <td>0</td>\n",
       "      <td>2</td>\n",
       "    </tr>\n",
       "    <tr>\n",
       "      <th>3</th>\n",
       "      <td>3</td>\n",
       "      <td>07월 31일</td>\n",
       "      <td>19:32:00</td>\n",
       "      <td>재민</td>\n",
       "      <td>9호선</td>\n",
       "      <td>여의도</td>\n",
       "      <td>신논현</td>\n",
       "      <td>F</td>\n",
       "      <td>NaN</td>\n",
       "      <td>여</td>\n",
       "      <td>...</td>\n",
       "      <td>NaN</td>\n",
       "      <td>NaN</td>\n",
       "      <td>1</td>\n",
       "      <td>1.0</td>\n",
       "      <td>0</td>\n",
       "      <td>0</td>\n",
       "      <td>1</td>\n",
       "      <td>0</td>\n",
       "      <td>0</td>\n",
       "      <td>2</td>\n",
       "    </tr>\n",
       "    <tr>\n",
       "      <th>4</th>\n",
       "      <td>4</td>\n",
       "      <td>07월 31일</td>\n",
       "      <td>22:38:00</td>\n",
       "      <td>재민</td>\n",
       "      <td>분당선</td>\n",
       "      <td>선정릉</td>\n",
       "      <td>야탑</td>\n",
       "      <td>F</td>\n",
       "      <td>NaN</td>\n",
       "      <td>여</td>\n",
       "      <td>...</td>\n",
       "      <td>NaN</td>\n",
       "      <td>NaN</td>\n",
       "      <td>1</td>\n",
       "      <td>1.0</td>\n",
       "      <td>0</td>\n",
       "      <td>0</td>\n",
       "      <td>1</td>\n",
       "      <td>0</td>\n",
       "      <td>0</td>\n",
       "      <td>2</td>\n",
       "    </tr>\n",
       "  </tbody>\n",
       "</table>\n",
       "<p>5 rows × 26 columns</p>\n",
       "</div>"
      ],
      "text/plain": [
       "   Unnamed: 0     date      time name line start stop crowded old_age_seat  \\\n",
       "0           0  07월 31일  19:10:00   재민  5호선    공덕  여의도       N          NaN   \n",
       "1           1  07월 31일  19:21:00   재민  9호선   여의도  신논현       F          NaN   \n",
       "2           2  07월 31일  19:28:00   재민  9호선   여의도  신논현       F          NaN   \n",
       "3           3  07월 31일  19:32:00   재민  9호선   여의도  신논현       F          NaN   \n",
       "4           4  07월 31일  22:38:00   재민  분당선   선정릉   야탑       F          NaN   \n",
       "\n",
       "  sex  ...                characteristic       bag empty sex2 노년 중년 청년 어린이  \\\n",
       "0   여  ...                           NaN  쇼핑백, 장우산     1  1.0  0  1  0   0   \n",
       "1   여  ...  임산부석 비워달라는 방송이 나왔으나 아랑곳하지 않음       NaN     1  1.0  0  1  0   0   \n",
       "2   여  ...                           NaN       NaN     1  1.0  0  0  1   0   \n",
       "3   여  ...                           NaN       NaN     1  1.0  0  0  1   0   \n",
       "4   여  ...                           NaN       NaN     1  1.0  0  0  1   0   \n",
       "\n",
       "   청소년  crowded2  \n",
       "0    0         1  \n",
       "1    0         2  \n",
       "2    0         2  \n",
       "3    0         2  \n",
       "4    0         2  \n",
       "\n",
       "[5 rows x 26 columns]"
      ]
     },
     "execution_count": 89,
     "metadata": {},
     "output_type": "execute_result"
    }
   ],
   "source": [
    "data.head()"
   ]
  },
  {
   "cell_type": "code",
   "execution_count": 90,
   "metadata": {},
   "outputs": [
    {
     "data": {
      "text/html": [
       "<div>\n",
       "<style scoped>\n",
       "    .dataframe tbody tr th:only-of-type {\n",
       "        vertical-align: middle;\n",
       "    }\n",
       "\n",
       "    .dataframe tbody tr th {\n",
       "        vertical-align: top;\n",
       "    }\n",
       "\n",
       "    .dataframe thead th {\n",
       "        text-align: right;\n",
       "    }\n",
       "</style>\n",
       "<table border=\"1\" class=\"dataframe\">\n",
       "  <thead>\n",
       "    <tr style=\"text-align: right;\">\n",
       "      <th></th>\n",
       "      <th>Unnamed: 0</th>\n",
       "      <th>date</th>\n",
       "      <th>time</th>\n",
       "      <th>name</th>\n",
       "      <th>line</th>\n",
       "      <th>start</th>\n",
       "      <th>stop</th>\n",
       "      <th>crowded</th>\n",
       "      <th>old_age_seat</th>\n",
       "      <th>sex</th>\n",
       "      <th>...</th>\n",
       "      <th>characteristic</th>\n",
       "      <th>bag</th>\n",
       "      <th>empty</th>\n",
       "      <th>sex2</th>\n",
       "      <th>노년</th>\n",
       "      <th>중년</th>\n",
       "      <th>청년</th>\n",
       "      <th>어린이</th>\n",
       "      <th>청소년</th>\n",
       "      <th>crowded2</th>\n",
       "    </tr>\n",
       "  </thead>\n",
       "  <tbody>\n",
       "    <tr>\n",
       "      <th>828</th>\n",
       "      <td>828</td>\n",
       "      <td>08월 16일</td>\n",
       "      <td>18:16:00</td>\n",
       "      <td>단비</td>\n",
       "      <td>1호선</td>\n",
       "      <td>신길</td>\n",
       "      <td>온수</td>\n",
       "      <td>F</td>\n",
       "      <td>X</td>\n",
       "      <td>여</td>\n",
       "      <td>...</td>\n",
       "      <td>NaN</td>\n",
       "      <td>백팩</td>\n",
       "      <td>1</td>\n",
       "      <td>1.0</td>\n",
       "      <td>1</td>\n",
       "      <td>0</td>\n",
       "      <td>0</td>\n",
       "      <td>0</td>\n",
       "      <td>0</td>\n",
       "      <td>2</td>\n",
       "    </tr>\n",
       "    <tr>\n",
       "      <th>829</th>\n",
       "      <td>829</td>\n",
       "      <td>08월 16일</td>\n",
       "      <td>18:16:00</td>\n",
       "      <td>단비</td>\n",
       "      <td>1호선</td>\n",
       "      <td>신길</td>\n",
       "      <td>온수</td>\n",
       "      <td>F</td>\n",
       "      <td>X</td>\n",
       "      <td>여</td>\n",
       "      <td>...</td>\n",
       "      <td>에코백 크기의 가죽가방</td>\n",
       "      <td>에코백</td>\n",
       "      <td>1</td>\n",
       "      <td>1.0</td>\n",
       "      <td>0</td>\n",
       "      <td>0</td>\n",
       "      <td>1</td>\n",
       "      <td>0</td>\n",
       "      <td>0</td>\n",
       "      <td>2</td>\n",
       "    </tr>\n",
       "    <tr>\n",
       "      <th>830</th>\n",
       "      <td>830</td>\n",
       "      <td>08월 16일</td>\n",
       "      <td>18:29:00</td>\n",
       "      <td>단비</td>\n",
       "      <td>1호선</td>\n",
       "      <td>신길</td>\n",
       "      <td>온수</td>\n",
       "      <td>F</td>\n",
       "      <td>X</td>\n",
       "      <td>여</td>\n",
       "      <td>...</td>\n",
       "      <td>에코백 크기의 가죽가방</td>\n",
       "      <td>에코백</td>\n",
       "      <td>1</td>\n",
       "      <td>1.0</td>\n",
       "      <td>0</td>\n",
       "      <td>0</td>\n",
       "      <td>1</td>\n",
       "      <td>0</td>\n",
       "      <td>0</td>\n",
       "      <td>2</td>\n",
       "    </tr>\n",
       "    <tr>\n",
       "      <th>831</th>\n",
       "      <td>831</td>\n",
       "      <td>08월 16일</td>\n",
       "      <td>18:40:00</td>\n",
       "      <td>단비</td>\n",
       "      <td>7호선</td>\n",
       "      <td>온수</td>\n",
       "      <td>신중동</td>\n",
       "      <td>F</td>\n",
       "      <td>X</td>\n",
       "      <td>여</td>\n",
       "      <td>...</td>\n",
       "      <td>NaN</td>\n",
       "      <td>크로스백</td>\n",
       "      <td>1</td>\n",
       "      <td>1.0</td>\n",
       "      <td>0</td>\n",
       "      <td>0</td>\n",
       "      <td>1</td>\n",
       "      <td>0</td>\n",
       "      <td>0</td>\n",
       "      <td>2</td>\n",
       "    </tr>\n",
       "    <tr>\n",
       "      <th>832</th>\n",
       "      <td>832</td>\n",
       "      <td>08월 16일</td>\n",
       "      <td>18:40:00</td>\n",
       "      <td>단비</td>\n",
       "      <td>7호선</td>\n",
       "      <td>온수</td>\n",
       "      <td>신중동</td>\n",
       "      <td>F</td>\n",
       "      <td>X</td>\n",
       "      <td>남</td>\n",
       "      <td>...</td>\n",
       "      <td>NaN</td>\n",
       "      <td>백팩</td>\n",
       "      <td>1</td>\n",
       "      <td>0.0</td>\n",
       "      <td>0</td>\n",
       "      <td>1</td>\n",
       "      <td>0</td>\n",
       "      <td>0</td>\n",
       "      <td>0</td>\n",
       "      <td>2</td>\n",
       "    </tr>\n",
       "  </tbody>\n",
       "</table>\n",
       "<p>5 rows × 26 columns</p>\n",
       "</div>"
      ],
      "text/plain": [
       "     Unnamed: 0     date      time name line start stop crowded old_age_seat  \\\n",
       "828         828  08월 16일  18:16:00   단비  1호선    신길   온수       F            X   \n",
       "829         829  08월 16일  18:16:00   단비  1호선    신길   온수       F            X   \n",
       "830         830  08월 16일  18:29:00   단비  1호선    신길   온수       F            X   \n",
       "831         831  08월 16일  18:40:00   단비  7호선    온수  신중동       F            X   \n",
       "832         832  08월 16일  18:40:00   단비  7호선    온수  신중동       F            X   \n",
       "\n",
       "    sex  ...  characteristic   bag empty sex2 노년 중년 청년 어린이  청소년  crowded2  \n",
       "828   여  ...             NaN    백팩     1  1.0  1  0  0   0    0         2  \n",
       "829   여  ...    에코백 크기의 가죽가방   에코백     1  1.0  0  0  1   0    0         2  \n",
       "830   여  ...    에코백 크기의 가죽가방   에코백     1  1.0  0  0  1   0    0         2  \n",
       "831   여  ...             NaN  크로스백     1  1.0  0  0  1   0    0         2  \n",
       "832   남  ...             NaN    백팩     1  0.0  0  1  0   0    0         2  \n",
       "\n",
       "[5 rows x 26 columns]"
      ]
     },
     "execution_count": 90,
     "metadata": {},
     "output_type": "execute_result"
    }
   ],
   "source": [
    "data.tail()"
   ]
  },
  {
   "cell_type": "code",
   "execution_count": 91,
   "metadata": {},
   "outputs": [
    {
     "data": {
      "text/plain": [
       "Unnamed: 0          int64\n",
       "date               object\n",
       "time               object\n",
       "name               object\n",
       "line               object\n",
       "start              object\n",
       "stop               object\n",
       "crowded            object\n",
       "old_age_seat       object\n",
       "sex                object\n",
       "empty_station     float64\n",
       "age                object\n",
       "badge              object\n",
       "pregnant           object\n",
       "heavy              object\n",
       "behavior           object\n",
       "characteristic     object\n",
       "bag                object\n",
       "empty               int64\n",
       "sex2              float64\n",
       "노년                  int64\n",
       "중년                  int64\n",
       "청년                  int64\n",
       "어린이                 int64\n",
       "청소년                 int64\n",
       "crowded2            int64\n",
       "dtype: object"
      ]
     },
     "execution_count": 91,
     "metadata": {},
     "output_type": "execute_result"
    }
   ],
   "source": [
    "data.dtypes"
   ]
  },
  {
   "cell_type": "code",
   "execution_count": 92,
   "metadata": {},
   "outputs": [
    {
     "data": {
      "text/plain": [
       "0      1.0\n",
       "1      1.0\n",
       "2      1.0\n",
       "3      1.0\n",
       "4      1.0\n",
       "      ... \n",
       "828    1.0\n",
       "829    1.0\n",
       "830    1.0\n",
       "831    1.0\n",
       "832    0.0\n",
       "Name: sex2, Length: 833, dtype: float64"
      ]
     },
     "execution_count": 92,
     "metadata": {},
     "output_type": "execute_result"
    }
   ],
   "source": [
    "data['sex2']"
   ]
  },
  {
   "cell_type": "code",
   "execution_count": 93,
   "metadata": {},
   "outputs": [
    {
     "data": {
      "text/plain": [
       "Unnamed: 0          int64\n",
       "date               object\n",
       "time               object\n",
       "name               object\n",
       "line               object\n",
       "start              object\n",
       "stop               object\n",
       "crowded            object\n",
       "old_age_seat       object\n",
       "sex                object\n",
       "empty_station     float64\n",
       "age                object\n",
       "badge              object\n",
       "pregnant           object\n",
       "heavy              object\n",
       "behavior           object\n",
       "characteristic     object\n",
       "bag                object\n",
       "empty               int64\n",
       "sex2              float64\n",
       "노년                  int64\n",
       "중년                  int64\n",
       "청년                  int64\n",
       "어린이                 int64\n",
       "청소년                 int64\n",
       "crowded2            int64\n",
       "dtype: object"
      ]
     },
     "execution_count": 93,
     "metadata": {},
     "output_type": "execute_result"
    }
   ],
   "source": [
    "data.dtypes"
   ]
  },
  {
   "cell_type": "code",
   "execution_count": 94,
   "metadata": {},
   "outputs": [
    {
     "data": {
      "text/plain": [
       "Index(['Unnamed: 0', 'date', 'time', 'name', 'line', 'start', 'stop',\n",
       "       'crowded', 'old_age_seat', 'sex', 'empty_station', 'age', 'badge',\n",
       "       'pregnant', 'heavy', 'behavior', 'characteristic', 'bag', 'empty',\n",
       "       'sex2', '노년', '중년', '청년', '어린이', '청소년', 'crowded2'],\n",
       "      dtype='object')"
      ]
     },
     "execution_count": 94,
     "metadata": {},
     "output_type": "execute_result"
    }
   ],
   "source": [
    "data.columns"
   ]
  },
  {
   "cell_type": "markdown",
   "metadata": {},
   "source": [
    "## 노약자석 데이터 정제"
   ]
  },
  {
   "cell_type": "code",
   "execution_count": 95,
   "metadata": {},
   "outputs": [],
   "source": [
    "data[\"old_age_seat\"] = data[\"old_age_seat\"].apply(lambda x: 1 if x == \"X\" else 0)"
   ]
  },
  {
   "cell_type": "code",
   "execution_count": 96,
   "metadata": {},
   "outputs": [
    {
     "data": {
      "text/plain": [
       "803    0\n",
       "804    1\n",
       "805    1\n",
       "806    0\n",
       "807    0\n",
       "808    0\n",
       "809    0\n",
       "810    0\n",
       "811    0\n",
       "812    0\n",
       "813    0\n",
       "814    0\n",
       "815    0\n",
       "816    0\n",
       "817    0\n",
       "818    0\n",
       "819    0\n",
       "820    0\n",
       "821    1\n",
       "822    1\n",
       "823    1\n",
       "824    0\n",
       "825    0\n",
       "826    0\n",
       "827    0\n",
       "828    1\n",
       "829    1\n",
       "830    1\n",
       "831    1\n",
       "832    1\n",
       "Name: old_age_seat, dtype: int64"
      ]
     },
     "execution_count": 96,
     "metadata": {},
     "output_type": "execute_result"
    }
   ],
   "source": [
    "data[\"old_age_seat\"].tail(30)"
   ]
  },
  {
   "cell_type": "markdown",
   "metadata": {},
   "source": [
    "## 뱃지여부"
   ]
  },
  {
   "cell_type": "code",
   "execution_count": 97,
   "metadata": {},
   "outputs": [],
   "source": [
    "def case_return(x):\n",
    "    if x == \"X\":\n",
    "        return 0\n",
    "    elif x == \"O\":\n",
    "        return 1\n",
    "    else :\n",
    "        return x"
   ]
  },
  {
   "cell_type": "code",
   "execution_count": 98,
   "metadata": {},
   "outputs": [],
   "source": [
    "data[\"badge\"] = data[\"badge\"].apply(lambda x: case_return(x))"
   ]
  },
  {
   "cell_type": "code",
   "execution_count": 99,
   "metadata": {},
   "outputs": [
    {
     "data": {
      "text/plain": [
       "803    NaN\n",
       "804    0.0\n",
       "805    NaN\n",
       "806    0.0\n",
       "807    0.0\n",
       "808    NaN\n",
       "809    NaN\n",
       "810    0.0\n",
       "811    0.0\n",
       "812    0.0\n",
       "813    NaN\n",
       "814    NaN\n",
       "815    0.0\n",
       "816    0.0\n",
       "817    NaN\n",
       "818    0.0\n",
       "819    0.0\n",
       "820    0.0\n",
       "821    0.0\n",
       "822    0.0\n",
       "823    NaN\n",
       "824    0.0\n",
       "825    0.0\n",
       "826    0.0\n",
       "827    NaN\n",
       "828    0.0\n",
       "829    0.0\n",
       "830    0.0\n",
       "831    0.0\n",
       "832    0.0\n",
       "Name: badge, dtype: float64"
      ]
     },
     "execution_count": 99,
     "metadata": {},
     "output_type": "execute_result"
    }
   ],
   "source": [
    "data[\"badge\"].tail(30)"
   ]
  },
  {
   "cell_type": "code",
   "execution_count": null,
   "metadata": {},
   "outputs": [],
   "source": []
  },
  {
   "cell_type": "code",
   "execution_count": 100,
   "metadata": {},
   "outputs": [
    {
     "data": {
      "text/plain": [
       "0      0.0\n",
       "1      0.0\n",
       "2      0.0\n",
       "3      0.0\n",
       "4      1.0\n",
       "      ... \n",
       "828    0.0\n",
       "829    0.0\n",
       "830    0.0\n",
       "831    0.0\n",
       "832    0.0\n",
       "Name: badge, Length: 833, dtype: float64"
      ]
     },
     "execution_count": 100,
     "metadata": {},
     "output_type": "execute_result"
    }
   ],
   "source": [
    "data[\"badge\"]"
   ]
  },
  {
   "cell_type": "markdown",
   "metadata": {},
   "source": [
    "## 임산부여부"
   ]
  },
  {
   "cell_type": "code",
   "execution_count": null,
   "metadata": {},
   "outputs": [],
   "source": [
    "import math\n",
    "def pragnant_case_return(x):\n",
    "    if x == \"X\":\n",
    "        return 0\n",
    "    elif x == \"O\" or x == \"?\":\n",
    "        return 1\n",
    "    elif math.isnan(x) :\n",
    "        return x"
   ]
  },
  {
   "cell_type": "code",
   "execution_count": 101,
   "metadata": {},
   "outputs": [],
   "source": [
    "data[\"pregnant\"] = data[\"pregnant\"].apply(lambda x: case_return(x))"
   ]
  },
  {
   "cell_type": "code",
   "execution_count": 102,
   "metadata": {},
   "outputs": [
    {
     "data": {
      "text/plain": [
       "803    NaN\n",
       "804      0\n",
       "805    NaN\n",
       "806      0\n",
       "807      0\n",
       "808    NaN\n",
       "809    NaN\n",
       "810      0\n",
       "811      ?\n",
       "812      0\n",
       "813    NaN\n",
       "814    NaN\n",
       "815      0\n",
       "816      0\n",
       "817    NaN\n",
       "818      0\n",
       "819      0\n",
       "820      0\n",
       "821      0\n",
       "822      0\n",
       "823    NaN\n",
       "824      0\n",
       "825      0\n",
       "826      ?\n",
       "827    NaN\n",
       "828      0\n",
       "829      0\n",
       "830      0\n",
       "831      0\n",
       "832      0\n",
       "Name: pregnant, dtype: object"
      ]
     },
     "execution_count": 102,
     "metadata": {},
     "output_type": "execute_result"
    }
   ],
   "source": [
    "data[\"pregnant\"].tail(30)"
   ]
  },
  {
   "cell_type": "markdown",
   "metadata": {},
   "source": [
    "## 임산부 여부에 ?일 때 잘 0으로 표시 잘 되었는지 확인"
   ]
  },
  {
   "cell_type": "code",
   "execution_count": 103,
   "metadata": {
    "scrolled": true
   },
   "outputs": [
    {
     "data": {
      "text/plain": [
       "Unnamed: 0             775\n",
       "date               08월 16일\n",
       "time              09:18:00\n",
       "name                    미현\n",
       "line                   5호선\n",
       "start                   신길\n",
       "stop                    공덕\n",
       "crowded                  F\n",
       "old_age_seat             1\n",
       "sex                      여\n",
       "empty_station          NaN\n",
       "age                     청년\n",
       "badge                    0\n",
       "pregnant                 ?\n",
       "heavy                    X\n",
       "behavior                 잠\n",
       "characteristic         NaN\n",
       "bag                    핸드백\n",
       "empty                    1\n",
       "sex2                     1\n",
       "노년                       0\n",
       "중년                       0\n",
       "청년                       1\n",
       "어린이                      0\n",
       "청소년                      0\n",
       "crowded2                 2\n",
       "Name: 775, dtype: object"
      ]
     },
     "execution_count": 103,
     "metadata": {},
     "output_type": "execute_result"
    }
   ],
   "source": [
    "data.iloc[775]"
   ]
  },
  {
   "cell_type": "code",
   "execution_count": 105,
   "metadata": {},
   "outputs": [],
   "source": [
    "data.to_csv('../practice_data/team6_updated_bomin.csv')"
   ]
  },
  {
   "cell_type": "code",
   "execution_count": null,
   "metadata": {},
   "outputs": [],
   "source": []
  },
  {
   "cell_type": "code",
   "execution_count": null,
   "metadata": {},
   "outputs": [],
   "source": []
  },
  {
   "cell_type": "code",
   "execution_count": null,
   "metadata": {},
   "outputs": [],
   "source": []
  },
  {
   "cell_type": "code",
   "execution_count": null,
   "metadata": {},
   "outputs": [],
   "source": []
  },
  {
   "cell_type": "code",
   "execution_count": null,
   "metadata": {},
   "outputs": [],
   "source": []
  },
  {
   "cell_type": "code",
   "execution_count": null,
   "metadata": {},
   "outputs": [],
   "source": []
  },
  {
   "cell_type": "code",
   "execution_count": null,
   "metadata": {},
   "outputs": [],
   "source": []
  },
  {
   "cell_type": "code",
   "execution_count": null,
   "metadata": {},
   "outputs": [],
   "source": []
  },
  {
   "cell_type": "code",
   "execution_count": 106,
   "metadata": {},
   "outputs": [
    {
     "data": {
      "text/plain": [
       "Index(['Unnamed: 0', 'date', 'time', 'name', 'line', 'start', 'stop',\n",
       "       'crowded', 'old_age_seat', 'sex', 'empty_station', 'age', 'badge',\n",
       "       'pregnant', 'heavy', 'behavior', 'characteristic', 'bag', 'empty',\n",
       "       'sex2', '노년', '중년', '청년', '어린이', '청소년', 'crowded2'],\n",
       "      dtype='object')"
      ]
     },
     "execution_count": 106,
     "metadata": {},
     "output_type": "execute_result"
    }
   ],
   "source": [
    "data.columns"
   ]
  },
  {
   "cell_type": "code",
   "execution_count": 107,
   "metadata": {},
   "outputs": [
    {
     "data": {
      "text/plain": [
       "array(['X', nan, 'O'], dtype=object)"
      ]
     },
     "execution_count": 107,
     "metadata": {},
     "output_type": "execute_result"
    }
   ],
   "source": [
    "data['heavy'].unique()"
   ]
  },
  {
   "cell_type": "code",
   "execution_count": null,
   "metadata": {},
   "outputs": [],
   "source": []
  }
 ],
 "metadata": {
  "kernelspec": {
   "display_name": "Python 3",
   "language": "python",
   "name": "python3"
  },
  "language_info": {
   "codemirror_mode": {
    "name": "ipython",
    "version": 3
   },
   "file_extension": ".py",
   "mimetype": "text/x-python",
   "name": "python",
   "nbconvert_exporter": "python",
   "pygments_lexer": "ipython3",
   "version": "3.6.8"
  }
 },
 "nbformat": 4,
 "nbformat_minor": 2
}

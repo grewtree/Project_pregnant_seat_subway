{
 "cells": [
  {
   "cell_type": "code",
   "execution_count": 3,
   "metadata": {},
   "outputs": [],
   "source": [
    "%matplotlib inline\n",
    "\n",
    "import pandas as pd\n",
    "import numpy as np\n",
    "import matplotlib.pyplot as plt\n",
    "import seaborn as sns\n",
    "from sklearn.datasets import make_moons, make_circles\n",
    "from pandas import DataFrame\n",
    "\n",
    "import math\n",
    "import statistics\n",
    "from collections import Counter"
   ]
  },
  {
   "cell_type": "code",
   "execution_count": 4,
   "metadata": {},
   "outputs": [],
   "source": [
    "table = pd.read_csv('smalldata_0822_test.csv')"
   ]
  },
  {
   "cell_type": "markdown",
   "metadata": {},
   "source": [
    "## 3-2) 비임산부가 무거운 짐을 가지고 있을 때 임산부석에 더 많이 앉을까?"
   ]
  },
  {
   "cell_type": "markdown",
   "metadata": {},
   "source": [
    "### E 상태일 때 무거운 짐이 있는 사람(1) vs 없는 사람(0)"
   ]
  },
  {
   "cell_type": "code",
   "execution_count": 5,
   "metadata": {},
   "outputs": [],
   "source": [
    "E_heavy = len(table[(table['heavy'] == 1) & (table['E']==1)])"
   ]
  },
  {
   "cell_type": "code",
   "execution_count": 6,
   "metadata": {},
   "outputs": [],
   "source": [
    "E_not_heavy= len(table[(table['heavy'] == 0) & (table['E']==1)])"
   ]
  },
  {
   "cell_type": "code",
   "execution_count": 7,
   "metadata": {},
   "outputs": [
    {
     "data": {
      "text/plain": [
       "heavy\n",
       "0.0    76.388889\n",
       "1.0    23.611111\n",
       "dtype: float64"
      ]
     },
     "execution_count": 7,
     "metadata": {},
     "output_type": "execute_result"
    }
   ],
   "source": [
    "table[(table['E']==1)].groupby('heavy').size().apply(lambda x: (x/(E_heavy + E_not_heavy)) * 100)"
   ]
  },
  {
   "cell_type": "markdown",
   "metadata": {},
   "source": [
    "### N 상태일 때 무거운 짐이 있는 사람(1) vs 없는 사람(0)"
   ]
  },
  {
   "cell_type": "code",
   "execution_count": 8,
   "metadata": {
    "scrolled": true
   },
   "outputs": [],
   "source": [
    "N_heavy = len(table[(table['heavy'] == 1) & (table['N']==1)])"
   ]
  },
  {
   "cell_type": "code",
   "execution_count": 9,
   "metadata": {
    "scrolled": true
   },
   "outputs": [],
   "source": [
    "N_not_heavy = len(table[(table['heavy'] == 0) & (table['N']==1)])"
   ]
  },
  {
   "cell_type": "code",
   "execution_count": 10,
   "metadata": {},
   "outputs": [
    {
     "data": {
      "text/plain": [
       "heavy\n",
       "0.0    59.493671\n",
       "1.0    40.506329\n",
       "dtype: float64"
      ]
     },
     "execution_count": 10,
     "metadata": {},
     "output_type": "execute_result"
    }
   ],
   "source": [
    "table[(table['N']==1)].groupby('heavy').size().apply(lambda x: (x/(N_heavy + N_not_heavy)) * 100)"
   ]
  },
  {
   "cell_type": "markdown",
   "metadata": {},
   "source": [
    "### F 상태일 때 무거운 짐이 있는 사람(1) vs 없는 사람(0)"
   ]
  },
  {
   "cell_type": "code",
   "execution_count": 11,
   "metadata": {},
   "outputs": [],
   "source": [
    "F_heavy = len(table[(table['heavy'] == 1) & (table['F']==1)])"
   ]
  },
  {
   "cell_type": "code",
   "execution_count": 12,
   "metadata": {},
   "outputs": [],
   "source": [
    "F_not_heavy = len(table[(table['heavy'] == 0) & (table['F']==1)])"
   ]
  },
  {
   "cell_type": "code",
   "execution_count": 13,
   "metadata": {},
   "outputs": [
    {
     "data": {
      "text/plain": [
       "heavy\n",
       "0.0    70.300752\n",
       "1.0    29.699248\n",
       "dtype: float64"
      ]
     },
     "execution_count": 13,
     "metadata": {},
     "output_type": "execute_result"
    }
   ],
   "source": [
    "table[(table['F']==1)].groupby('heavy').size().apply(lambda x: (x/(F_heavy + F_not_heavy)) * 100)"
   ]
  },
  {
   "cell_type": "markdown",
   "metadata": {},
   "source": [
    "## 짐이 가벼운 사람의 E, N, F 비율"
   ]
  },
  {
   "cell_type": "code",
   "execution_count": 19,
   "metadata": {},
   "outputs": [
    {
     "data": {
      "text/html": [
       "<div>\n",
       "<style scoped>\n",
       "    .dataframe tbody tr th:only-of-type {\n",
       "        vertical-align: middle;\n",
       "    }\n",
       "\n",
       "    .dataframe tbody tr th {\n",
       "        vertical-align: top;\n",
       "    }\n",
       "\n",
       "    .dataframe thead th {\n",
       "        text-align: right;\n",
       "    }\n",
       "</style>\n",
       "<table border=\"1\" class=\"dataframe\">\n",
       "  <thead>\n",
       "    <tr style=\"text-align: right;\">\n",
       "      <th>붐빔 정도</th>\n",
       "      <th>사람 수</th>\n",
       "      <th>비율</th>\n",
       "    </tr>\n",
       "  </thead>\n",
       "  <tbody>\n",
       "    <tr>\n",
       "      <th>E</th>\n",
       "      <td>17</td>\n",
       "      <td>8%</td>\n",
       "    </tr>\n",
       "    <tr>\n",
       "      <th>N</th>\n",
       "      <td>96</td>\n",
       "      <td>50%</td>\n",
       "    </tr>\n",
       "    <tr>\n",
       "      <th>F</th>\n",
       "      <td>79</td>\n",
       "      <td>41%</td>\n",
       "    </tr>\n",
       "  </tbody>\n",
       "</table>\n",
       "</div>"
      ],
      "text/plain": [
       "붐빔 정도 사람 수   비율\n",
       "E       17   8%\n",
       "N       96  50%\n",
       "F       79  41%"
      ]
     },
     "metadata": {},
     "output_type": "display_data"
    },
    {
     "data": {
      "text/html": [
       "<div>\n",
       "<style scoped>\n",
       "    .dataframe tbody tr th:only-of-type {\n",
       "        vertical-align: middle;\n",
       "    }\n",
       "\n",
       "    .dataframe tbody tr th {\n",
       "        vertical-align: top;\n",
       "    }\n",
       "\n",
       "    .dataframe thead th {\n",
       "        text-align: right;\n",
       "    }\n",
       "</style>\n",
       "<table border=\"1\" class=\"dataframe\">\n",
       "  <thead>\n",
       "    <tr style=\"text-align: right;\">\n",
       "      <th>붐빔 정도</th>\n",
       "      <th>사람 수</th>\n",
       "      <th>비율</th>\n",
       "    </tr>\n",
       "  </thead>\n",
       "  <tbody>\n",
       "    <tr>\n",
       "      <th>E</th>\n",
       "      <td>55</td>\n",
       "      <td>4%</td>\n",
       "    </tr>\n",
       "    <tr>\n",
       "      <th>N</th>\n",
       "      <td>141</td>\n",
       "      <td>25%</td>\n",
       "    </tr>\n",
       "    <tr>\n",
       "      <th>F</th>\n",
       "      <td>187</td>\n",
       "      <td>20%</td>\n",
       "    </tr>\n",
       "  </tbody>\n",
       "</table>\n",
       "</div>"
      ],
      "text/plain": [
       "붐빔 정도 사람 수   비율\n",
       "E       55   4%\n",
       "N      141  25%\n",
       "F      187  20%"
      ]
     },
     "metadata": {},
     "output_type": "display_data"
    }
   ],
   "source": [
    "sum_heavy_ENF = E_heavy+N_heavy+F_heavy\n",
    "sum_not_heavy_ENF = E_not_heavy+N_not_heavy+F_not_heavy\n",
    "heavy_ENF = pd.DataFrame({'붐빔 정도':[\"사람 수\", \"비율\"],\n",
    "                        'E': [E_heavy, str(int((E_heavy/sum_heavy_ENF)*100))+\"%\"],\n",
    "                          'N': [N_heavy, str(int((N_heavy/sum_heavy_ENF)*100))+\"%\"],\n",
    "                          'F': [F_heavy, str(int((F_heavy/sum_heavy_ENF)*100))+\"%\"]})\n",
    "\n",
    "not_heavy_ENF = pd.DataFrame({'붐빔 정도':[\"사람 수\", \"비율\"],\n",
    "                            'E': [E_not_heavy, str(int((E_heavy/sum_not_heavy_ENF)*100))+\"%\"],\n",
    "                              'N': [N_not_heavy, str(int((N_heavy/sum_not_heavy_ENF)*100))+\"%\"],\n",
    "                              'F': [F_not_heavy, str(int((F_heavy/sum_not_heavy_ENF)*100))+\"%\"]})\n",
    "\n",
    "hENF = heavy_ENF.set_index('붐빔 정도').T\n",
    "nhENF = not_heavy_ENF.set_index('붐빔 정도').T\n",
    "display(hENF.iloc[0:3])\n",
    "display(nhENF.iloc[0:3])"
   ]
  }
 ],
 "metadata": {
  "kernelspec": {
   "display_name": "Python 3",
   "language": "python",
   "name": "python3"
  },
  "language_info": {
   "codemirror_mode": {
    "name": "ipython",
    "version": 3
   },
   "file_extension": ".py",
   "mimetype": "text/x-python",
   "name": "python",
   "nbconvert_exporter": "python",
   "pygments_lexer": "ipython3",
   "version": "3.7.4"
  }
 },
 "nbformat": 4,
 "nbformat_minor": 2
}

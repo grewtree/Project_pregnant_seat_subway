{
 "cells": [
  {
   "cell_type": "code",
   "execution_count": 28,
   "metadata": {},
   "outputs": [],
   "source": [
    "# basic setting\n",
    "import pandas as pd\n",
    "table = pd.read_csv('./cleaned_data_by_team.csv')"
   ]
  },
  {
   "cell_type": "code",
   "execution_count": 29,
   "metadata": {},
   "outputs": [
    {
     "data": {
      "text/html": [
       "<div>\n",
       "<style scoped>\n",
       "    .dataframe tbody tr th:only-of-type {\n",
       "        vertical-align: middle;\n",
       "    }\n",
       "\n",
       "    .dataframe tbody tr th {\n",
       "        vertical-align: top;\n",
       "    }\n",
       "\n",
       "    .dataframe thead th {\n",
       "        text-align: right;\n",
       "    }\n",
       "</style>\n",
       "<table border=\"1\" class=\"dataframe\">\n",
       "  <thead>\n",
       "    <tr style=\"text-align: right;\">\n",
       "      <th></th>\n",
       "      <th>date</th>\n",
       "      <th>time</th>\n",
       "      <th>line</th>\n",
       "      <th>start</th>\n",
       "      <th>stop</th>\n",
       "      <th>count_station</th>\n",
       "      <th>time.1</th>\n",
       "      <th>crowdedness</th>\n",
       "      <th>E</th>\n",
       "      <th>N</th>\n",
       "      <th>...</th>\n",
       "      <th>cellphone</th>\n",
       "      <th>thinking</th>\n",
       "      <th>sleep</th>\n",
       "      <th>earphone</th>\n",
       "      <th>talking</th>\n",
       "      <th>calling</th>\n",
       "      <th>reading</th>\n",
       "      <th>makeup</th>\n",
       "      <th>eating</th>\n",
       "      <th>writing</th>\n",
       "    </tr>\n",
       "  </thead>\n",
       "  <tbody>\n",
       "    <tr>\n",
       "      <th>0</th>\n",
       "      <td>2019. 7. 31.</td>\n",
       "      <td>19:10:00</td>\n",
       "      <td>5</td>\n",
       "      <td>공덕</td>\n",
       "      <td>여의도</td>\n",
       "      <td>3</td>\n",
       "      <td>6</td>\n",
       "      <td>N</td>\n",
       "      <td>0</td>\n",
       "      <td>1</td>\n",
       "      <td>...</td>\n",
       "      <td>1.0</td>\n",
       "      <td>0.0</td>\n",
       "      <td>0.0</td>\n",
       "      <td>1.0</td>\n",
       "      <td>0.0</td>\n",
       "      <td>0.0</td>\n",
       "      <td>0.0</td>\n",
       "      <td>0.0</td>\n",
       "      <td>0.0</td>\n",
       "      <td>0.0</td>\n",
       "    </tr>\n",
       "    <tr>\n",
       "      <th>1</th>\n",
       "      <td>2019. 7. 31.</td>\n",
       "      <td>19:21:00</td>\n",
       "      <td>9</td>\n",
       "      <td>여의도</td>\n",
       "      <td>신논현</td>\n",
       "      <td>10</td>\n",
       "      <td>20</td>\n",
       "      <td>F</td>\n",
       "      <td>0</td>\n",
       "      <td>0</td>\n",
       "      <td>...</td>\n",
       "      <td>1.0</td>\n",
       "      <td>0.0</td>\n",
       "      <td>0.0</td>\n",
       "      <td>0.0</td>\n",
       "      <td>0.0</td>\n",
       "      <td>0.0</td>\n",
       "      <td>0.0</td>\n",
       "      <td>0.0</td>\n",
       "      <td>0.0</td>\n",
       "      <td>0.0</td>\n",
       "    </tr>\n",
       "    <tr>\n",
       "      <th>2</th>\n",
       "      <td>2019. 7. 31.</td>\n",
       "      <td>19:28:00</td>\n",
       "      <td>9</td>\n",
       "      <td>여의도</td>\n",
       "      <td>신논현</td>\n",
       "      <td>10</td>\n",
       "      <td>20</td>\n",
       "      <td>F</td>\n",
       "      <td>0</td>\n",
       "      <td>0</td>\n",
       "      <td>...</td>\n",
       "      <td>1.0</td>\n",
       "      <td>0.0</td>\n",
       "      <td>0.0</td>\n",
       "      <td>0.0</td>\n",
       "      <td>0.0</td>\n",
       "      <td>0.0</td>\n",
       "      <td>0.0</td>\n",
       "      <td>0.0</td>\n",
       "      <td>0.0</td>\n",
       "      <td>0.0</td>\n",
       "    </tr>\n",
       "    <tr>\n",
       "      <th>3</th>\n",
       "      <td>2019. 7. 31.</td>\n",
       "      <td>19:32:00</td>\n",
       "      <td>9</td>\n",
       "      <td>여의도</td>\n",
       "      <td>신논현</td>\n",
       "      <td>10</td>\n",
       "      <td>20</td>\n",
       "      <td>F</td>\n",
       "      <td>0</td>\n",
       "      <td>0</td>\n",
       "      <td>...</td>\n",
       "      <td>1.0</td>\n",
       "      <td>0.0</td>\n",
       "      <td>0.0</td>\n",
       "      <td>0.0</td>\n",
       "      <td>0.0</td>\n",
       "      <td>0.0</td>\n",
       "      <td>0.0</td>\n",
       "      <td>0.0</td>\n",
       "      <td>0.0</td>\n",
       "      <td>0.0</td>\n",
       "    </tr>\n",
       "    <tr>\n",
       "      <th>4</th>\n",
       "      <td>2019. 7. 31.</td>\n",
       "      <td>22:38:00</td>\n",
       "      <td>10</td>\n",
       "      <td>선정릉</td>\n",
       "      <td>야탑</td>\n",
       "      <td>12</td>\n",
       "      <td>24</td>\n",
       "      <td>F</td>\n",
       "      <td>0</td>\n",
       "      <td>0</td>\n",
       "      <td>...</td>\n",
       "      <td>1.0</td>\n",
       "      <td>0.0</td>\n",
       "      <td>0.0</td>\n",
       "      <td>0.0</td>\n",
       "      <td>1.0</td>\n",
       "      <td>0.0</td>\n",
       "      <td>0.0</td>\n",
       "      <td>0.0</td>\n",
       "      <td>0.0</td>\n",
       "      <td>0.0</td>\n",
       "    </tr>\n",
       "  </tbody>\n",
       "</table>\n",
       "<p>5 rows × 38 columns</p>\n",
       "</div>"
      ],
      "text/plain": [
       "           date      time  line start stop  count_station  time.1 crowdedness  \\\n",
       "0  2019. 7. 31.  19:10:00     5    공덕  여의도              3       6           N   \n",
       "1  2019. 7. 31.  19:21:00     9   여의도  신논현             10      20           F   \n",
       "2  2019. 7. 31.  19:28:00     9   여의도  신논현             10      20           F   \n",
       "3  2019. 7. 31.  19:32:00     9   여의도  신논현             10      20           F   \n",
       "4  2019. 7. 31.  22:38:00    10   선정릉   야탑             12      24           F   \n",
       "\n",
       "   E  N  ...  cellphone  thinking  sleep  earphone  talking  calling reading  \\\n",
       "0  0  1  ...        1.0       0.0    0.0       1.0      0.0      0.0     0.0   \n",
       "1  0  0  ...        1.0       0.0    0.0       0.0      0.0      0.0     0.0   \n",
       "2  0  0  ...        1.0       0.0    0.0       0.0      0.0      0.0     0.0   \n",
       "3  0  0  ...        1.0       0.0    0.0       0.0      0.0      0.0     0.0   \n",
       "4  0  0  ...        1.0       0.0    0.0       0.0      1.0      0.0     0.0   \n",
       "\n",
       "   makeup  eating  writing  \n",
       "0     0.0     0.0      0.0  \n",
       "1     0.0     0.0      0.0  \n",
       "2     0.0     0.0      0.0  \n",
       "3     0.0     0.0      0.0  \n",
       "4     0.0     0.0      0.0  \n",
       "\n",
       "[5 rows x 38 columns]"
      ]
     },
     "execution_count": 29,
     "metadata": {},
     "output_type": "execute_result"
    }
   ],
   "source": [
    "table.head()"
   ]
  },
  {
   "cell_type": "code",
   "execution_count": 56,
   "metadata": {},
   "outputs": [
    {
     "data": {
      "text/plain": [
       "833"
      ]
     },
     "execution_count": 56,
     "metadata": {},
     "output_type": "execute_result"
    }
   ],
   "source": [
    "len(table)"
   ]
  },
  {
   "cell_type": "code",
   "execution_count": 30,
   "metadata": {},
   "outputs": [
    {
     "data": {
      "text/plain": [
       "Index(['date', 'time', 'line', 'start', 'stop', 'count_station', 'time.1',\n",
       "       'crowdedness', 'E', 'N', 'F', 'old_age_seat', 'is_empty', 'empty_count',\n",
       "       'female', 'male', 'age', 'child', 'teenage', 'youth', 'middle_age',\n",
       "       'old_age', 'badge', 'pregnant', 'heavy', 'behavior1', 'behavior2',\n",
       "       'behavior3', 'cellphone', 'thinking', 'sleep', 'earphone', 'talking',\n",
       "       'calling', 'reading', 'makeup', 'eating', 'writing'],\n",
       "      dtype='object')"
      ]
     },
     "execution_count": 30,
     "metadata": {},
     "output_type": "execute_result"
    }
   ],
   "source": [
    "table.columns"
   ]
  },
  {
   "cell_type": "code",
   "execution_count": 33,
   "metadata": {},
   "outputs": [
    {
     "data": {
      "text/plain": [
       "date              object\n",
       "time              object\n",
       "line               int64\n",
       "start             object\n",
       "stop              object\n",
       "count_station      int64\n",
       "time.1             int64\n",
       "crowdedness       object\n",
       "E                  int64\n",
       "N                  int64\n",
       "F                  int64\n",
       "old_age_seat       int64\n",
       "is_empty           int64\n",
       "empty_count      float64\n",
       "female           float64\n",
       "male             float64\n",
       "age               object\n",
       "child            float64\n",
       "teenage          float64\n",
       "youth            float64\n",
       "middle_age       float64\n",
       "old_age          float64\n",
       "badge            float64\n",
       "pregnant         float64\n",
       "heavy            float64\n",
       "behavior1         object\n",
       "behavior2         object\n",
       "behavior3         object\n",
       "cellphone        float64\n",
       "thinking         float64\n",
       "sleep            float64\n",
       "earphone         float64\n",
       "talking          float64\n",
       "calling          float64\n",
       "reading          float64\n",
       "makeup           float64\n",
       "eating           float64\n",
       "writing          float64\n",
       "dtype: object"
      ]
     },
     "execution_count": 33,
     "metadata": {},
     "output_type": "execute_result"
    }
   ],
   "source": [
    "table.dtypes"
   ]
  },
  {
   "cell_type": "markdown",
   "metadata": {},
   "source": [
    "---\n",
    "# 데이터 분석 목표\n",
    "\n",
    "## 기본 데이터 확인\n",
    "1. 전체 데이터 중 착석자가 관찰된 데이터의 비율은 어떻게 되는가?\n",
    "2. 전체 착석자 중 임산부의 비율은 어떻게 되는가?\n",
    "3. 전체 임산부 중 임산부 엠블럼이 있는 경우의 비율은 어떻게 되는가?\n",
    "\n",
    "4. 전체 착석자의 성별 비율은 어떻게 분포하는가?\n",
    "5. 비임산부 착석자의 연령대 분포는 어떻게 되는가?\n",
    "6. 비임산부 착석자의 연령대별 행동 분포는 어떻게 되는가?\n",
    "\n",
    "## 심화 데이터 확인\n",
    "7. 노약자석 빈자리 여부가 노년인구의 착석 비율에 영향을 미치는가?\n",
    "8. 무거운 짐을 가지고 있는 사람이 임산부석에 많이 앉는가?\n",
    "9. 붐빔정도에 따라 임산부석에 사람이 앉을 비율은 얼마나 되는가?\n",
    "\n",
    "## 호선별 데이터 확인\n",
    "10. 호선별 붐빔 정도에 따른 착석률"
   ]
  },
  {
   "cell_type": "markdown",
   "metadata": {},
   "source": [
    "---\n",
    "### 1. 전체 데이터 중 착석자가 관찰된 데이터의 비율은 어떻게 되는가?"
   ]
  },
  {
   "cell_type": "code",
   "execution_count": 58,
   "metadata": {},
   "outputs": [
    {
     "data": {
      "text/plain": [
       "array([0, 1])"
      ]
     },
     "execution_count": 58,
     "metadata": {},
     "output_type": "execute_result"
    }
   ],
   "source": [
    "table['is_empty'].unique()"
   ]
  },
  {
   "cell_type": "code",
   "execution_count": 86,
   "metadata": {},
   "outputs": [],
   "source": [
    "not_empty = table[table['is_empty']==0]"
   ]
  },
  {
   "cell_type": "code",
   "execution_count": 88,
   "metadata": {},
   "outputs": [
    {
     "data": {
      "text/plain": [
       "69.15"
      ]
     },
     "execution_count": 88,
     "metadata": {},
     "output_type": "execute_result"
    }
   ],
   "source": [
    "round(not_empty['date'].count()/len(table['is_empty'])*100, 2)"
   ]
  },
  {
   "cell_type": "code",
   "execution_count": 89,
   "metadata": {},
   "outputs": [
    {
     "data": {
      "text/plain": [
       "'전체 데이터 중 착석자 수는 576 이며, 착석자 비율은 69.15 입니다.'"
      ]
     },
     "execution_count": 89,
     "metadata": {},
     "output_type": "execute_result"
    }
   ],
   "source": [
    "('전체 데이터 중 착석자 수는 {} 이며, 착석자 비율은 {} 입니다.').format(\n",
    "                                                            not_empty['date'].count(),\n",
    "                                                            round(not_empty['date'].count()/len(table['is_empty'])*100, 2)\n",
    "                                                            )"
   ]
  },
  {
   "cell_type": "markdown",
   "metadata": {},
   "source": [
    "---\n",
    "### 2. 전체 착석자 중 임산부의 비율은 어떻게 되는가?"
   ]
  },
  {
   "cell_type": "code",
   "execution_count": 95,
   "metadata": {},
   "outputs": [],
   "source": [
    "pregnant = not_empty[not_empty['pregnant'] == 1]"
   ]
  },
  {
   "cell_type": "code",
   "execution_count": 104,
   "metadata": {},
   "outputs": [
    {
     "data": {
      "text/plain": [
       "'전체 착석자 중 임산부의 비율은 4.51% 입니다.'"
      ]
     },
     "execution_count": 104,
     "metadata": {},
     "output_type": "execute_result"
    }
   ],
   "source": [
    "('전체 착석자 중 임산부의 수는 {}명 이고,').format(pregnant['date'].count())\n",
    "('전체 착석자 중 임산부의 비율은 {}% 입니다.').format(round(pregnant['date'].count()/not_empty['date'].count()*100, 2))"
   ]
  },
  {
   "cell_type": "markdown",
   "metadata": {},
   "source": [
    "---\n",
    "### 3. 전체 임산부 중 임산부 엠블럼이 있는 경우의 비율은 어떻게 되는가?"
   ]
  },
  {
   "cell_type": "code",
   "execution_count": null,
   "metadata": {},
   "outputs": [],
   "source": []
  },
  {
   "cell_type": "markdown",
   "metadata": {},
   "source": [
    "---\n",
    "### 4. 전체 착석자의 성별 비율은 어떻게 분포하는가?"
   ]
  },
  {
   "cell_type": "code",
   "execution_count": 74,
   "metadata": {},
   "outputs": [],
   "source": [
    "female_num = table['female'].sum()\n",
    "male_num = table['male'].sum()"
   ]
  },
  {
   "cell_type": "code",
   "execution_count": 78,
   "metadata": {},
   "outputs": [
    {
     "data": {
      "text/plain": [
       "'전체 착석자 중 여성의 수는 448.0이며, 비율은 77.78 퍼센트 입니다.'"
      ]
     },
     "execution_count": 78,
     "metadata": {},
     "output_type": "execute_result"
    }
   ],
   "source": [
    "('전체 착석자 중 여성의 수는 {}이며, 비율은 {} 퍼센트 입니다.').format(\n",
    "                                                                female_num, \n",
    "                                                                 round(female_num/(female_num+male_num)*100, 2)\n",
    "                                                            )"
   ]
  },
  {
   "cell_type": "code",
   "execution_count": 79,
   "metadata": {},
   "outputs": [
    {
     "data": {
      "text/plain": [
       "'전체 착석자 중 남성의 수는 128.0이며, 비율은 22.22 퍼센트 입니다.'"
      ]
     },
     "execution_count": 79,
     "metadata": {},
     "output_type": "execute_result"
    }
   ],
   "source": [
    "('전체 착석자 중 남성의 수는 {}이며, 비율은 {} 퍼센트 입니다.').format(\n",
    "                                                                male_num, \n",
    "                                                                 round(male_num/(female_num+male_num)*100, 2)\n",
    ")"
   ]
  },
  {
   "cell_type": "markdown",
   "metadata": {},
   "source": [
    "---\n",
    "### 5. 비임산부 착석자의 연령대 분포는 어떻게 되는가?"
   ]
  },
  {
   "cell_type": "markdown",
   "metadata": {},
   "source": [
    "---\n",
    "### 6. 비임산부 착석자의 연령대별 행동 분포는 어떻게 되는가?"
   ]
  },
  {
   "cell_type": "markdown",
   "metadata": {},
   "source": [
    "---\n",
    "### 7. 노약자석 빈자리 여부가 노년인구의 착석 비율에 영향을 미치는가?"
   ]
  },
  {
   "cell_type": "markdown",
   "metadata": {},
   "source": [
    "---\n",
    "### 8. 무거운 짐을 가지고 있는 사람이 임산부석에 많이 앉는가?"
   ]
  },
  {
   "cell_type": "markdown",
   "metadata": {},
   "source": [
    "---\n",
    "### 9. 붐빔정도에 따라 임산부석에 사람이 앉을 비율은 얼마나 되는가?"
   ]
  },
  {
   "cell_type": "markdown",
   "metadata": {},
   "source": [
    "---\n",
    "### 10. 호선별 붐빔 정도에 따른 착석률"
   ]
  },
  {
   "cell_type": "code",
   "execution_count": null,
   "metadata": {},
   "outputs": [],
   "source": []
  },
  {
   "cell_type": "code",
   "execution_count": null,
   "metadata": {},
   "outputs": [],
   "source": []
  },
  {
   "cell_type": "code",
   "execution_count": null,
   "metadata": {},
   "outputs": [],
   "source": []
  }
 ],
 "metadata": {
  "kernelspec": {
   "display_name": "Python 3",
   "language": "python",
   "name": "python3"
  },
  "language_info": {
   "codemirror_mode": {
    "name": "ipython",
    "version": 3
   },
   "file_extension": ".py",
   "mimetype": "text/x-python",
   "name": "python",
   "nbconvert_exporter": "python",
   "pygments_lexer": "ipython3",
   "version": "3.6.8"
  }
 },
 "nbformat": 4,
 "nbformat_minor": 2
}

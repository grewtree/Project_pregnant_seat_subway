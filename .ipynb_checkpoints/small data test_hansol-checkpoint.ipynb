{
 "cells": [
  {
   "cell_type": "code",
   "execution_count": 2,
   "metadata": {},
   "outputs": [],
   "source": [
    "import pandas as pd"
   ]
  },
  {
   "cell_type": "code",
   "execution_count": 3,
   "metadata": {},
   "outputs": [],
   "source": [
    "original = pd.read_csv('./practice_data/0813-bomin.csv')"
   ]
  },
  {
   "cell_type": "code",
   "execution_count": 4,
   "metadata": {},
   "outputs": [
    {
     "data": {
      "text/html": [
       "<div>\n",
       "<style scoped>\n",
       "    .dataframe tbody tr th:only-of-type {\n",
       "        vertical-align: middle;\n",
       "    }\n",
       "\n",
       "    .dataframe tbody tr th {\n",
       "        vertical-align: top;\n",
       "    }\n",
       "\n",
       "    .dataframe thead th {\n",
       "        text-align: right;\n",
       "    }\n",
       "</style>\n",
       "<table border=\"1\" class=\"dataframe\">\n",
       "  <thead>\n",
       "    <tr style=\"text-align: right;\">\n",
       "      <th></th>\n",
       "      <th>날짜</th>\n",
       "      <th>기록 시간</th>\n",
       "      <th>기록자</th>\n",
       "      <th>호선</th>\n",
       "      <th>탑승역</th>\n",
       "      <th>하차역</th>\n",
       "      <th>붐빔 정도</th>\n",
       "      <th>노약자석 빈자리 여부</th>\n",
       "      <th>성별</th>\n",
       "      <th>비어있었던 역 수</th>\n",
       "      <th>연령대</th>\n",
       "      <th>뱃지 여부</th>\n",
       "      <th>임산부 여부</th>\n",
       "      <th>무거운 짐 여부</th>\n",
       "      <th>행동</th>\n",
       "      <th>기타 특이사항</th>\n",
       "      <th>짐 종류</th>\n",
       "    </tr>\n",
       "  </thead>\n",
       "  <tbody>\n",
       "    <tr>\n",
       "      <th>0</th>\n",
       "      <td>2019. 7. 31</td>\n",
       "      <td>19:10</td>\n",
       "      <td>재민</td>\n",
       "      <td>5호선</td>\n",
       "      <td>공덕</td>\n",
       "      <td>여의도</td>\n",
       "      <td>N</td>\n",
       "      <td>NaN</td>\n",
       "      <td>여</td>\n",
       "      <td>NaN</td>\n",
       "      <td>중년</td>\n",
       "      <td>X</td>\n",
       "      <td>X</td>\n",
       "      <td>X</td>\n",
       "      <td>이어폰, 핸드폰</td>\n",
       "      <td>NaN</td>\n",
       "      <td>쇼핑백, 장우산</td>\n",
       "    </tr>\n",
       "    <tr>\n",
       "      <th>1</th>\n",
       "      <td>2019. 7. 31</td>\n",
       "      <td>19:21</td>\n",
       "      <td>재민</td>\n",
       "      <td>9호선</td>\n",
       "      <td>여의도</td>\n",
       "      <td>신논현</td>\n",
       "      <td>F</td>\n",
       "      <td>NaN</td>\n",
       "      <td>여</td>\n",
       "      <td>NaN</td>\n",
       "      <td>중년</td>\n",
       "      <td>X</td>\n",
       "      <td>X</td>\n",
       "      <td>X</td>\n",
       "      <td>핸드폰</td>\n",
       "      <td>임산부석 비워달라는 방송이 나왔으나 아랑곳하지 않음</td>\n",
       "      <td>NaN</td>\n",
       "    </tr>\n",
       "    <tr>\n",
       "      <th>2</th>\n",
       "      <td>2019. 7. 31</td>\n",
       "      <td>19:28</td>\n",
       "      <td>재민</td>\n",
       "      <td>9호선</td>\n",
       "      <td>여의도</td>\n",
       "      <td>신논현</td>\n",
       "      <td>F</td>\n",
       "      <td>NaN</td>\n",
       "      <td>여</td>\n",
       "      <td>NaN</td>\n",
       "      <td>청년</td>\n",
       "      <td>X</td>\n",
       "      <td>X</td>\n",
       "      <td>X</td>\n",
       "      <td>핸드폰</td>\n",
       "      <td>NaN</td>\n",
       "      <td>NaN</td>\n",
       "    </tr>\n",
       "    <tr>\n",
       "      <th>3</th>\n",
       "      <td>2019. 7. 31</td>\n",
       "      <td>19:32</td>\n",
       "      <td>재민</td>\n",
       "      <td>9호선</td>\n",
       "      <td>여의도</td>\n",
       "      <td>신논현</td>\n",
       "      <td>F</td>\n",
       "      <td>NaN</td>\n",
       "      <td>여</td>\n",
       "      <td>NaN</td>\n",
       "      <td>청년</td>\n",
       "      <td>X</td>\n",
       "      <td>O</td>\n",
       "      <td>X</td>\n",
       "      <td>핸드폰</td>\n",
       "      <td>NaN</td>\n",
       "      <td>NaN</td>\n",
       "    </tr>\n",
       "    <tr>\n",
       "      <th>4</th>\n",
       "      <td>2019. 7. 31</td>\n",
       "      <td>22:38</td>\n",
       "      <td>재민</td>\n",
       "      <td>분당선</td>\n",
       "      <td>선정릉</td>\n",
       "      <td>야탑</td>\n",
       "      <td>F</td>\n",
       "      <td>NaN</td>\n",
       "      <td>여</td>\n",
       "      <td>NaN</td>\n",
       "      <td>청년</td>\n",
       "      <td>O</td>\n",
       "      <td>O</td>\n",
       "      <td>X</td>\n",
       "      <td>핸드폰, 대화</td>\n",
       "      <td>NaN</td>\n",
       "      <td>NaN</td>\n",
       "    </tr>\n",
       "  </tbody>\n",
       "</table>\n",
       "</div>"
      ],
      "text/plain": [
       "            날짜  기록 시간 기록자   호선  탑승역  하차역 붐빔 정도 노약자석 빈자리 여부 성별  비어있었던 역 수 연령대  \\\n",
       "0  2019. 7. 31  19:10  재민  5호선   공덕  여의도     N         NaN  여        NaN  중년   \n",
       "1  2019. 7. 31  19:21  재민  9호선  여의도  신논현     F         NaN  여        NaN  중년   \n",
       "2  2019. 7. 31  19:28  재민  9호선  여의도  신논현     F         NaN  여        NaN  청년   \n",
       "3  2019. 7. 31  19:32  재민  9호선  여의도  신논현     F         NaN  여        NaN  청년   \n",
       "4  2019. 7. 31  22:38  재민  분당선  선정릉   야탑     F         NaN  여        NaN  청년   \n",
       "\n",
       "  뱃지 여부 임산부 여부 무거운 짐 여부        행동                       기타 특이사항      짐 종류  \n",
       "0     X      X        X  이어폰, 핸드폰                           NaN  쇼핑백, 장우산  \n",
       "1     X      X        X       핸드폰  임산부석 비워달라는 방송이 나왔으나 아랑곳하지 않음       NaN  \n",
       "2     X      X        X       핸드폰                           NaN       NaN  \n",
       "3     X      O        X       핸드폰                           NaN       NaN  \n",
       "4     O      O        X   핸드폰, 대화                           NaN       NaN  "
      ]
     },
     "execution_count": 4,
     "metadata": {},
     "output_type": "execute_result"
    }
   ],
   "source": [
    "original.head(5)"
   ]
  },
  {
   "cell_type": "code",
   "execution_count": 26,
   "metadata": {},
   "outputs": [
    {
     "data": {
      "text/plain": [
       "0    10\n",
       "1    10\n",
       "dtype: int64"
      ]
     },
     "execution_count": 26,
     "metadata": {},
     "output_type": "execute_result"
    }
   ],
   "source": [
    "pd.DataFrame(original.groupby(['연령대','성별'])['성별']).count()"
   ]
  },
  {
   "cell_type": "code",
   "execution_count": null,
   "metadata": {},
   "outputs": [],
   "source": []
  }
 ],
 "metadata": {
  "kernelspec": {
   "display_name": "Python 3",
   "language": "python",
   "name": "python3"
  },
  "language_info": {
   "codemirror_mode": {
    "name": "ipython",
    "version": 3
   },
   "file_extension": ".py",
   "mimetype": "text/x-python",
   "name": "python",
   "nbconvert_exporter": "python",
   "pygments_lexer": "ipython3",
   "version": "3.7.4"
  }
 },
 "nbformat": 4,
 "nbformat_minor": 2
}
